{
  "nbformat": 4,
  "nbformat_minor": 0,
  "metadata": {
    "colab": {
      "private_outputs": true,
      "provenance": [],
      "collapsed_sections": [
        "vncDsAP0Gaoa",
        "FJNUwmbgGyua",
        "w6K7xa23Elo4",
        "yQaldy8SH6Dl",
        "mDgbUHAGgjLW",
        "3RnN4peoiCZX",
        "x71ZqKXriCWQ",
        "7hBIi_osiCS2",
        "JlHwYmJAmNHm",
        "35m5QtbWiB9F",
        "PoPl-ycgm1ru",
        "H0kj-8xxnORC",
        "nA9Y7ga8ng1Z",
        "PBTbrJXOngz2",
        "u3PMJOP6ngxN",
        "dauF4eBmngu3",
        "bKJF3rekwFvQ",
        "MSa1f5Uengrz",
        "GF8Ens_Soomf",
        "0wOQAZs5pc--",
        "K5QZ13OEpz2H",
        "lQ7QKXXCp7Bj",
        "448CDAPjqfQr",
        "KSlN3yHqYklG",
        "t6dVpIINYklI",
        "ijmpgYnKYklI",
        "-JiQyfWJYklI",
        "EM7whBJCYoAo",
        "fge-S5ZAYoAp",
        "85gYPyotYoAp",
        "RoGjAbkUYoAp",
        "4Of9eVA-YrdM",
        "iky9q4vBYrdO",
        "F6T5p64dYrdO",
        "y-Ehk30pYrdP",
        "bamQiAODYuh1",
        "QHF8YVU7Yuh3",
        "GwzvFGzlYuh3",
        "qYpmQ266Yuh3",
        "OH-pJp9IphqM",
        "bbFf2-_FphqN",
        "_ouA3fa0phqN",
        "Seke61FWphqN",
        "PIIx-8_IphqN",
        "t27r6nlMphqO",
        "r2jJGEOYphqO",
        "b0JNsNcRphqO",
        "BZR9WyysphqO",
        "jj7wYXLtphqO",
        "eZrbJ2SmphqO",
        "rFu4xreNphqO",
        "YJ55k-q6phqO",
        "gCFgpxoyphqP",
        "OVtJsKN_phqQ",
        "lssrdh5qphqQ",
        "U2RJ9gkRphqQ",
        "1M8mcRywphqQ",
        "tgIPom80phqQ",
        "JMzcOPDDphqR",
        "x-EpHcCOp1ci",
        "X_VqEhTip1ck",
        "8zGJKyg5p1ck",
        "PVzmfK_Ep1ck",
        "n3dbpmDWp1ck",
        "ylSl6qgtp1ck",
        "ZWILFDl5p1ck",
        "M7G43BXep1ck",
        "Ag9LCva-p1cl",
        "E6MkPsBcp1cl",
        "2cELzS2fp1cl",
        "3MPXvC8up1cl",
        "NC_X3p0fY2L0",
        "UV0SzAkaZNRQ",
        "YPEH6qLeZNRQ",
        "q29F0dvdveiT",
        "EXh0U9oCveiU",
        "22aHeOlLveiV",
        "g-ATYxFrGrvw",
        "Yfr_Vlr8HBkt",
        "8yEUt7NnHlrM",
        "tEA2Xm5dHt1r",
        "I79__PHVH19G",
        "Ou-I18pAyIpj",
        "fF3858GYyt-u",
        "4_0_7-oCpUZd",
        "hwyV_J3ipUZe",
        "3yB-zSqbpUZe",
        "dEUvejAfpUZe",
        "Fd15vwWVpUZf",
        "bn_IUdTipZyH",
        "49K5P_iCpZyH",
        "Nff-vKELpZyI",
        "kLW572S8pZyI",
        "dWbDXHzopZyI",
        "yLjJCtPM0KBk",
        "xiyOF9F70UgQ",
        "7wuGOrhz0itI",
        "id1riN9m0vUs",
        "578E2V7j08f6",
        "89xtkJwZ18nB",
        "67NQN5KX2AMe",
        "-oLEiFgy-5Pf",
        "C74aWNz2AliB",
        "2DejudWSA-a0",
        "pEMng2IbBLp7",
        "rAdphbQ9Bhjc",
        "TNVZ9zx19K6k",
        "nqoHp30x9hH9",
        "rMDnDkt2B6du",
        "yiiVWRdJDDil",
        "1UUpS68QDMuG",
        "kexQrXU-DjzY",
        "T5CmagL3EC8N",
        "BhH2vgX9EjGr",
        "qjKvONjwE8ra",
        "P1XJ9OREExlT",
        "VFOzZv6IFROw",
        "TIqpNgepFxVj",
        "VfCC591jGiD4",
        "OB4l2ZhMeS1U",
        "ArJBuiUVfxKd",
        "4qY1EAkEfxKe",
        "PiV4Ypx8fxKe",
        "TfvqoZmBfxKf",
        "dJ2tPlVmpsJ0",
        "JWYfwnehpsJ1",
        "-jK_YjpMpsJ2",
        "HAih1iBOpsJ2",
        "zVGeBEFhpsJ2",
        "bmKjuQ-FpsJ3",
        "Fze-IPXLpx6K",
        "7AN1z2sKpx6M",
        "9PIHJqyupx6M",
        "_-qAgymDpx6N",
        "Z-hykwinpx6N",
        "h_CCil-SKHpo",
        "cBFFvTBNJzUa",
        "HvGl1hHyA_VK",
        "EyNgTHvd2WFk",
        "KH5McJBi2d8v",
        "iW_Lq9qf2h6X",
        "-Kee-DAl2viO"
      ],
      "include_colab_link": true
    },
    "kernelspec": {
      "name": "python3",
      "display_name": "Python 3"
    },
    "language_info": {
      "name": "python"
    }
  },
  "cells": [
    {
      "cell_type": "markdown",
      "metadata": {
        "id": "view-in-github",
        "colab_type": "text"
      },
      "source": [
        "<a href=\"https://colab.research.google.com/github/ShrudhiChaudhary/CardioVascular-Risk_Prediction/blob/main/Cardiovascular_Risk_Prediction_Shrudhi.ipynb\" target=\"_parent\"><img src=\"https://colab.research.google.com/assets/colab-badge.svg\" alt=\"Open In Colab\"/></a>"
      ]
    },
    {
      "cell_type": "markdown",
      "source": [
        "# **Project Name**    - \n",
        "\n"
      ],
      "metadata": {
        "id": "vncDsAP0Gaoa"
      }
    },
    {
      "cell_type": "markdown",
      "source": [
        "##### **Project Type**    - Classification\n",
        "##### **Contribution**    - Individual\n",
        "##### **Team Member  -**Shrudhi Chaudhary"
      ],
      "metadata": {
        "id": "beRrZCGUAJYm"
      }
    },
    {
      "cell_type": "markdown",
      "source": [
        "# **Project Summary -**"
      ],
      "metadata": {
        "id": "FJNUwmbgGyua"
      }
    },
    {
      "cell_type": "markdown",
      "source": [
        "### The project focuses on classifying whether the patient has a risk of cardiovascular coronary disease or not in the upcoming 10 years. There are 17 attributes and around 4000 columns so as to do the prediction. Various classification models like KNN , SVM , Logistic regression , Decision tree classifier have been used in order to get the best accuracy."
      ],
      "metadata": {
        "id": "F6v_1wHtG2nS"
      }
    },
    {
      "cell_type": "markdown",
      "source": [
        "# **GitHub Link -**"
      ],
      "metadata": {
        "id": "w6K7xa23Elo4"
      }
    },
    {
      "cell_type": "markdown",
      "source": [
        "Provide your GitHub Link here.\n",
        "\n"
      ],
      "metadata": {
        "id": "h1o69JH3Eqqn"
      }
    },
    {
      "cell_type": "markdown",
      "source": [
        "# **Problem Statement**\n"
      ],
      "metadata": {
        "id": "yQaldy8SH6Dl"
      }
    },
    {
      "cell_type": "markdown",
      "source": [
        "**Write Problem Statement Here.**\n",
        "![image.png](data:image/png;base64,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)"
      ],
      "metadata": {
        "id": "DpeJGUA3kjGy"
      }
    },
    {
      "cell_type": "markdown",
      "source": [
        "# **General Guidelines** : -  "
      ],
      "metadata": {
        "id": "mDgbUHAGgjLW"
      }
    },
    {
      "cell_type": "markdown",
      "source": [
        "1.   Well-structured, formatted, and commented code is required. \n",
        "2.   Exception Handling, Production Grade Code & Deployment Ready Code will be a plus. Those students will be awarded some additional credits. \n",
        "     \n",
        "     The additional credits will have advantages over other students during Star Student selection.\n",
        "       \n",
        "             [ Note: - Deployment Ready Code is defined as, the whole .ipynb notebook should be executable in one go\n",
        "                       without a single error logged. ]\n",
        "\n",
        "3.   Each and every logic should have proper comments.\n",
        "4. You may add as many number of charts you want. Make Sure for each and every chart the following format should be answered.\n",
        "        \n",
        "\n",
        "```\n",
        "# Chart visualization code\n",
        "```\n",
        "            \n",
        "\n",
        "*   Why did you pick the specific chart?\n",
        "*   What is/are the insight(s) found from the chart?\n",
        "* Will the gained insights help creating a positive business impact? \n",
        "Are there any insights that lead to negative growth? Justify with specific reason.\n",
        "\n",
        "5. You have to create at least 15 logical & meaningful charts having important insights.\n",
        "\n",
        "\n",
        "[ Hints : - Do the Vizualization in  a structured way while following \"UBM\" Rule. \n",
        "\n",
        "U - Univariate Analysis,\n",
        "\n",
        "B - Bivariate Analysis (Numerical - Categorical, Numerical - Numerical, Categorical - Categorical)\n",
        "\n",
        "M - Multivariate Analysis\n",
        " ]\n",
        "\n",
        "\n",
        "\n",
        "\n",
        "\n",
        "6. You may add more ml algorithms for model creation. Make sure for each and every algorithm, the following format should be answered.\n",
        "\n",
        "\n",
        "*   Explain the ML Model used and it's performance using Evaluation metric Score Chart.\n",
        "\n",
        "\n",
        "*   Cross- Validation & Hyperparameter Tuning\n",
        "\n",
        "*   Have you seen any improvement? Note down the improvement with updates Evaluation metric Score Chart.\n",
        "\n",
        "*   Explain each evaluation metric's indication towards business and the business impact pf the ML model used.\n",
        "\n",
        "\n",
        "\n",
        "\n",
        "\n",
        "\n",
        "\n",
        "\n",
        "\n",
        "\n",
        "\n",
        "\n",
        "\n",
        "\n",
        "\n",
        "\n",
        "\n",
        "\n"
      ],
      "metadata": {
        "id": "ZrxVaUj-hHfC"
      }
    },
    {
      "cell_type": "markdown",
      "source": [
        "# ***Let's Begin !***"
      ],
      "metadata": {
        "id": "O_i_v8NEhb9l"
      }
    },
    {
      "cell_type": "markdown",
      "source": [
        "## ***1. Know Your Data***"
      ],
      "metadata": {
        "id": "HhfV-JJviCcP"
      }
    },
    {
      "cell_type": "markdown",
      "source": [
        "### Import Libraries"
      ],
      "metadata": {
        "id": "Y3lxredqlCYt"
      }
    },
    {
      "cell_type": "code",
      "source": [
        "# Import Libraries\n",
        "import numpy as np\n",
        "import pandas as pd\n",
        "import matplotlib.pyplot as plt\n",
        "import seaborn as sns\n",
        "from sklearn.metrics import accuracy_score, auc\n",
        "from sklearn.model_selection import train_test_split\n",
        "from sklearn.tree import DecisionTreeClassifier\n",
        "from sklearn.preprocessing import StandardScaler  \n",
        "from sklearn.ensemble import RandomForestClassifier\n",
        "from sklearn.ensemble import GradientBoostingClassifier\n",
        "from sklearn.model_selection import GridSearchCV\n",
        "from sklearn.metrics import roc_auc_score, confusion_matrix, accuracy_score\n",
        "from sklearn.linear_model import LogisticRegression\n",
        "from sklearn.linear_model import LogisticRegressionCV\n",
        "from sklearn.model_selection import cross_validate\n",
        "from sklearn.neighbors import KNeighborsClassifier\n",
        "from sklearn.metrics import confusion_matrix,roc_curve"
      ],
      "metadata": {
        "id": "M8Vqi-pPk-HR"
      },
      "execution_count": null,
      "outputs": []
    },
    {
      "cell_type": "markdown",
      "source": [
        "### Dataset Loading"
      ],
      "metadata": {
        "id": "3RnN4peoiCZX"
      }
    },
    {
      "cell_type": "code",
      "source": [
        "# Load Dataset\n",
        "from google.colab import drive\n",
        "drive.mount('/content/drive')"
      ],
      "metadata": {
        "id": "4CkvbW_SlZ_R"
      },
      "execution_count": null,
      "outputs": []
    },
    {
      "cell_type": "markdown",
      "source": [
        "### Dataset First View"
      ],
      "metadata": {
        "id": "x71ZqKXriCWQ"
      }
    },
    {
      "cell_type": "code",
      "source": [
        "# Dataset First Look\n",
        "data = pd.read_csv('/content/drive/MyDrive/data_cardiovascular_risk.csv')\n",
        "data.head()"
      ],
      "metadata": {
        "id": "LWNFOSvLl09H"
      },
      "execution_count": null,
      "outputs": []
    },
    {
      "cell_type": "markdown",
      "source": [
        "### Dataset Rows & Columns count"
      ],
      "metadata": {
        "id": "7hBIi_osiCS2"
      }
    },
    {
      "cell_type": "code",
      "source": [
        "# Dataset Rows & Columns count\n",
        "data.shape"
      ],
      "metadata": {
        "id": "Kllu7SJgmLij"
      },
      "execution_count": null,
      "outputs": []
    },
    {
      "cell_type": "markdown",
      "source": [
        "### Dataset Information"
      ],
      "metadata": {
        "id": "JlHwYmJAmNHm"
      }
    },
    {
      "cell_type": "code",
      "source": [
        "# Dataset Info\n",
        "data.info()"
      ],
      "metadata": {
        "id": "e9hRXRi6meOf"
      },
      "execution_count": null,
      "outputs": []
    },
    {
      "cell_type": "markdown",
      "source": [
        "#### Duplicate Values"
      ],
      "metadata": {
        "id": "35m5QtbWiB9F"
      }
    },
    {
      "cell_type": "code",
      "source": [
        "# Dataset Duplicate Value Count\n",
        "data.duplicated().sum()"
      ],
      "metadata": {
        "id": "1sLdpKYkmox0"
      },
      "execution_count": null,
      "outputs": []
    },
    {
      "cell_type": "markdown",
      "source": [
        "#### Missing Values/Null Values"
      ],
      "metadata": {
        "id": "PoPl-ycgm1ru"
      }
    },
    {
      "cell_type": "code",
      "source": [
        "# Missing Values/Null Values Count\n",
        "data.isnull().sum()"
      ],
      "metadata": {
        "id": "GgHWkxvamxVg"
      },
      "execution_count": null,
      "outputs": []
    },
    {
      "cell_type": "code",
      "source": [
        "# Visualizing the missing values\n",
        "sns.heatmap(data.isnull(), cbar=False)"
      ],
      "metadata": {
        "id": "3q5wnI3om9sJ"
      },
      "execution_count": null,
      "outputs": []
    },
    {
      "cell_type": "markdown",
      "source": [
        "### What did you know about your dataset?"
      ],
      "metadata": {
        "id": "H0kj-8xxnORC"
      }
    },
    {
      "cell_type": "markdown",
      "source": [
        "There are 3390 rows and 17 attributes and we need to predict the Ten year CHD risk for the patients"
      ],
      "metadata": {
        "id": "gfoNAAC-nUe_"
      }
    },
    {
      "cell_type": "markdown",
      "source": [
        "## ***2. Understanding Your Variables***"
      ],
      "metadata": {
        "id": "nA9Y7ga8ng1Z"
      }
    },
    {
      "cell_type": "code",
      "source": [
        "# Dataset Columns\n",
        "data.columns"
      ],
      "metadata": {
        "id": "j7xfkqrt5Ag5"
      },
      "execution_count": null,
      "outputs": []
    },
    {
      "cell_type": "code",
      "source": [
        "# Dataset Describe\n",
        "data.describe()"
      ],
      "metadata": {
        "id": "DnOaZdaE5Q5t"
      },
      "execution_count": null,
      "outputs": []
    },
    {
      "cell_type": "markdown",
      "source": [
        "### Variables Description "
      ],
      "metadata": {
        "id": "PBTbrJXOngz2"
      }
    },
    {
      "cell_type": "markdown",
      "source": [
        "![image.png](data:image/png;base64,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)"
      ],
      "metadata": {
        "id": "aJV4KIxSnxay"
      }
    },
    {
      "cell_type": "markdown",
      "source": [
        "### Check Unique Values for each variable."
      ],
      "metadata": {
        "id": "u3PMJOP6ngxN"
      }
    },
    {
      "cell_type": "code",
      "source": [
        "# Check Unique Values for each variable.\n",
        "for i in data.columns.tolist():\n",
        "  print(\"No. of unique values in \",i,\"is\",data[i].nunique(),\".\")"
      ],
      "metadata": {
        "id": "zms12Yq5n-jE"
      },
      "execution_count": null,
      "outputs": []
    },
    {
      "cell_type": "markdown",
      "source": [
        "## 3. ***Data Wrangling***"
      ],
      "metadata": {
        "id": "dauF4eBmngu3"
      }
    },
    {
      "cell_type": "markdown",
      "source": [
        "### Data Wrangling Code"
      ],
      "metadata": {
        "id": "bKJF3rekwFvQ"
      }
    },
    {
      "cell_type": "code",
      "source": [
        "# Write your code to make your dataset analysis ready.\n",
        "sns.set(rc={'figure.figsize':(7,7)})\n",
        "sns.displot(data=data, x='education', kind=\"kde\")"
      ],
      "metadata": {
        "id": "wk-9a2fpoLcV"
      },
      "execution_count": null,
      "outputs": []
    },
    {
      "cell_type": "code",
      "source": [
        "df = data.fillna(method=\"ffill\")\n",
        "df"
      ],
      "metadata": {
        "id": "Uj28zRS4ebEn"
      },
      "execution_count": null,
      "outputs": []
    },
    {
      "cell_type": "code",
      "source": [
        "sns.set(rc={'figure.figsize':(7,7)})\n",
        "sns.displot(data=df, x='education', kind=\"kde\")"
      ],
      "metadata": {
        "id": "T736X2cpetxl"
      },
      "execution_count": null,
      "outputs": []
    },
    {
      "cell_type": "code",
      "source": [
        "df.isnull().sum()"
      ],
      "metadata": {
        "id": "8_vLT1WRfW8_"
      },
      "execution_count": null,
      "outputs": []
    },
    {
      "cell_type": "code",
      "source": [
        "sns.set(rc={'figure.figsize':(7,7)})\n",
        "sns.displot(data=data, x='BMI', kind=\"kde\")"
      ],
      "metadata": {
        "id": "HcR_UYxQfDn_"
      },
      "execution_count": null,
      "outputs": []
    },
    {
      "cell_type": "code",
      "source": [
        "df1 = df.fillna(method=\"bfill\")\n",
        "df1"
      ],
      "metadata": {
        "id": "KmSHanKbf4WY"
      },
      "execution_count": null,
      "outputs": []
    },
    {
      "cell_type": "code",
      "source": [
        "df1.describe()"
      ],
      "metadata": {
        "id": "yXFQdETR-wN-"
      },
      "execution_count": null,
      "outputs": []
    },
    {
      "cell_type": "code",
      "source": [
        "df1.isnull().sum()"
      ],
      "metadata": {
        "id": "-R9PJ339gNpF"
      },
      "execution_count": null,
      "outputs": []
    },
    {
      "cell_type": "markdown",
      "source": [
        "### What all manipulations have you done and insights you found?"
      ],
      "metadata": {
        "id": "MSa1f5Uengrz"
      }
    },
    {
      "cell_type": "markdown",
      "source": [
        "Answer Here."
      ],
      "metadata": {
        "id": "LbyXE7I1olp8"
      }
    },
    {
      "cell_type": "markdown",
      "source": [
        "## ***4. Data Vizualization, Storytelling & Experimenting with charts : Understand the relationships between variables***"
      ],
      "metadata": {
        "id": "GF8Ens_Soomf"
      }
    },
    {
      "cell_type": "markdown",
      "source": [
        "#### Chart - 1"
      ],
      "metadata": {
        "id": "0wOQAZs5pc--"
      }
    },
    {
      "cell_type": "code",
      "source": [
        "# Chart - 1 visualization code\n",
        "sns.countplot(x=df1['TenYearCHD'])"
      ],
      "metadata": {
        "id": "7v_ESjsspbW7"
      },
      "execution_count": null,
      "outputs": []
    },
    {
      "cell_type": "markdown",
      "source": [
        "##### 1. Why did you pick the specific chart?"
      ],
      "metadata": {
        "id": "K5QZ13OEpz2H"
      }
    },
    {
      "cell_type": "markdown",
      "source": [
        "To study the count of classes in Ten year CHD "
      ],
      "metadata": {
        "id": "XESiWehPqBRc"
      }
    },
    {
      "cell_type": "markdown",
      "source": [
        "##### 2. What is/are the insight(s) found from the chart?"
      ],
      "metadata": {
        "id": "lQ7QKXXCp7Bj"
      }
    },
    {
      "cell_type": "markdown",
      "source": [
        "The classes are imbalanced  "
      ],
      "metadata": {
        "id": "C_j1G7yiqdRP"
      }
    },
    {
      "cell_type": "markdown",
      "source": [
        "##### 3. Will the gained insights help creating a positive business impact? \n",
        "Are there any insights that lead to negative growth? Justify with specific reason."
      ],
      "metadata": {
        "id": "448CDAPjqfQr"
      }
    },
    {
      "cell_type": "markdown",
      "source": [
        "No negative insights"
      ],
      "metadata": {
        "id": "3cspy4FjqxJW"
      }
    },
    {
      "cell_type": "markdown",
      "source": [
        "#### Chart - 2"
      ],
      "metadata": {
        "id": "KSlN3yHqYklG"
      }
    },
    {
      "cell_type": "code",
      "source": [
        "# Chart - 2 visualization code\n",
        "ax = df1.groupby(['cigsPerDay'])['TenYearCHD'].mean().plot.bar(\n",
        "    figsize = (18,7),\n",
        "    fontsize = 14,\n",
        ")\n",
        "\n",
        "# Set the title\n",
        "ax.set_title(\"Risk of CHD from cigarattes per day\", fontsize = 20)\n",
        "\n",
        "# Set x and y-labels\n",
        "ax.set_xlabel(\"cigsPerDay\", fontsize = 15)\n",
        "ax.set_ylabel(\"TenYearCHD\", fontsize = 15)\n",
        "plt.xticks(rotation = 0)"
      ],
      "metadata": {
        "id": "R4YgtaqtYklH"
      },
      "execution_count": null,
      "outputs": []
    },
    {
      "cell_type": "code",
      "source": [
        "plt.figure(figsize=(15,10))\n",
        "sns.distplot(df1['cigsPerDay'],color=\"y\")"
      ],
      "metadata": {
        "id": "ThVQO-Pm0F7B"
      },
      "execution_count": null,
      "outputs": []
    },
    {
      "cell_type": "markdown",
      "source": [
        "##### 1. Why did you pick the specific chart?"
      ],
      "metadata": {
        "id": "t6dVpIINYklI"
      }
    },
    {
      "cell_type": "markdown",
      "source": [
        "To study the variation of cigsper day with respect to CHD"
      ],
      "metadata": {
        "id": "5aaW0BYyYklI"
      }
    },
    {
      "cell_type": "markdown",
      "source": [
        "##### 2. What is/are the insight(s) found from the chart?"
      ],
      "metadata": {
        "id": "ijmpgYnKYklI"
      }
    },
    {
      "cell_type": "markdown",
      "source": [
        "Higher cigratters consumed have higher risk of CHD"
      ],
      "metadata": {
        "id": "PSx9atu2YklI"
      }
    },
    {
      "cell_type": "markdown",
      "source": [
        "##### 3. Will the gained insights help creating a positive business impact? \n",
        "Are there any insights that lead to negative growth? Justify with specific reason."
      ],
      "metadata": {
        "id": "-JiQyfWJYklI"
      }
    },
    {
      "cell_type": "markdown",
      "source": [
        "No negative insights"
      ],
      "metadata": {
        "id": "BcBbebzrYklV"
      }
    },
    {
      "cell_type": "markdown",
      "source": [
        "#### Chart - 3"
      ],
      "metadata": {
        "id": "EM7whBJCYoAo"
      }
    },
    {
      "cell_type": "code",
      "source": [
        "# Chart - 3 visualization code\n",
        "sns.barplot(data=df1, x=\"cigsPerDay\", y=\"TenYearCHD\", hue=\"is_smoking\")"
      ],
      "metadata": {
        "id": "t6GMdE67YoAp"
      },
      "execution_count": null,
      "outputs": []
    },
    {
      "cell_type": "markdown",
      "source": [
        "##### 1. Why did you pick the specific chart?"
      ],
      "metadata": {
        "id": "fge-S5ZAYoAp"
      }
    },
    {
      "cell_type": "markdown",
      "source": [
        "To study co-relation of all 3 variables - cigsperday , CHD and is-smoking"
      ],
      "metadata": {
        "id": "5dBItgRVYoAp"
      }
    },
    {
      "cell_type": "markdown",
      "source": [
        "##### 2. What is/are the insight(s) found from the chart?"
      ],
      "metadata": {
        "id": "85gYPyotYoAp"
      }
    },
    {
      "cell_type": "markdown",
      "source": [
        "Higher cigarattes per day have higher risk of CHD"
      ],
      "metadata": {
        "id": "4jstXR6OYoAp"
      }
    },
    {
      "cell_type": "markdown",
      "source": [
        "##### 3. Will the gained insights help creating a positive business impact? \n",
        "Are there any insights that lead to negative growth? Justify with specific reason."
      ],
      "metadata": {
        "id": "RoGjAbkUYoAp"
      }
    },
    {
      "cell_type": "markdown",
      "source": [
        "No negative insights"
      ],
      "metadata": {
        "id": "zfJ8IqMcYoAp"
      }
    },
    {
      "cell_type": "markdown",
      "source": [
        "#### Chart - 4"
      ],
      "metadata": {
        "id": "4Of9eVA-YrdM"
      }
    },
    {
      "cell_type": "code",
      "source": [
        "# Chart - 4 visualization code\n",
        "ax = df1.groupby(['is_smoking'])['TenYearCHD'].mean().plot.bar(\n",
        "    figsize = (18,7),\n",
        "    fontsize = 14,\n",
        ")\n",
        "\n",
        "# Set the title\n",
        "ax.set_title(\"Risk of CHD from cigarattes per day\", fontsize = 20)\n",
        "\n",
        "# Set x and y-labels\n",
        "ax.set_xlabel(\"is_smoking\", fontsize = 15)\n",
        "ax.set_ylabel(\"TenYearCHD\", fontsize = 15)\n",
        "plt.xticks(rotation = 0)"
      ],
      "metadata": {
        "id": "irlUoxc8YrdO"
      },
      "execution_count": null,
      "outputs": []
    },
    {
      "cell_type": "code",
      "source": [
        "ax = df1.groupby(['sex'])['TenYearCHD'].mean().plot.bar(\n",
        "    figsize = (29,10),\n",
        "    fontsize = 10,\n",
        ")\n",
        "\n",
        "# Set the title\n",
        "ax.set_title(\"Risk of CHD estimation according to gender\", fontsize = 20)\n",
        "\n",
        "# Set x and y-labels\n",
        "ax.set_xlabel(\"sex\", fontsize = 15)\n",
        "ax.set_ylabel(\"TenYearCHD\", fontsize = 15)\n",
        "plt.xticks(rotation = 0)"
      ],
      "metadata": {
        "id": "wmcNC7Y7-WyL"
      },
      "execution_count": null,
      "outputs": []
    },
    {
      "cell_type": "markdown",
      "source": [
        "##### 1. Why did you pick the specific chart?"
      ],
      "metadata": {
        "id": "iky9q4vBYrdO"
      }
    },
    {
      "cell_type": "markdown",
      "source": [
        "To study the distribution of male and female with respect to CHD"
      ],
      "metadata": {
        "id": "aJRCwT6DYrdO"
      }
    },
    {
      "cell_type": "markdown",
      "source": [
        "##### 2. What is/are the insight(s) found from the chart?"
      ],
      "metadata": {
        "id": "F6T5p64dYrdO"
      }
    },
    {
      "cell_type": "markdown",
      "source": [
        "Males has higher risk of CHD"
      ],
      "metadata": {
        "id": "Xx8WAJvtYrdO"
      }
    },
    {
      "cell_type": "markdown",
      "source": [
        "##### 3. Will the gained insights help creating a positive business impact? \n",
        "Are there any insights that lead to negative growth? Justify with specific reason."
      ],
      "metadata": {
        "id": "y-Ehk30pYrdP"
      }
    },
    {
      "cell_type": "markdown",
      "source": [
        "No negative insights"
      ],
      "metadata": {
        "id": "jLNxxz7MYrdP"
      }
    },
    {
      "cell_type": "markdown",
      "source": [
        "#### Chart - 5"
      ],
      "metadata": {
        "id": "bamQiAODYuh1"
      }
    },
    {
      "cell_type": "code",
      "source": [
        "# Chart - 5 visualization code\n",
        "ax = df1.groupby(['BPMeds'])['TenYearCHD'].mean().plot.bar(\n",
        "    figsize = (18,7),\n",
        "    fontsize = 14,\n",
        ")\n",
        "\n",
        "# Set the title\n",
        "ax.set_title(\"Risk of CHD for patients taking BP medicine\", fontsize = 20)\n",
        "\n",
        "# Set x and y-labels\n",
        "ax.set_xlabel(\"BPMeds\", fontsize = 15)\n",
        "ax.set_ylabel(\"TenYearCHD\", fontsize = 15)\n",
        "plt.xticks(rotation = 0)"
      ],
      "metadata": {
        "id": "TIJwrbroYuh3"
      },
      "execution_count": null,
      "outputs": []
    },
    {
      "cell_type": "markdown",
      "source": [
        "##### 1. Why did you pick the specific chart?"
      ],
      "metadata": {
        "id": "QHF8YVU7Yuh3"
      }
    },
    {
      "cell_type": "markdown",
      "source": [
        "To study the variable BP medicine in accordance with CHD"
      ],
      "metadata": {
        "id": "dcxuIMRPYuh3"
      }
    },
    {
      "cell_type": "markdown",
      "source": [
        "##### 2. What is/are the insight(s) found from the chart?"
      ],
      "metadata": {
        "id": "GwzvFGzlYuh3"
      }
    },
    {
      "cell_type": "markdown",
      "source": [
        "Patients taking medicines of BP have higher risk of CHD"
      ],
      "metadata": {
        "id": "uyqkiB8YYuh3"
      }
    },
    {
      "cell_type": "markdown",
      "source": [
        "##### 3. Will the gained insights help creating a positive business impact? \n",
        "Are there any insights that lead to negative growth? Justify with specific reason."
      ],
      "metadata": {
        "id": "qYpmQ266Yuh3"
      }
    },
    {
      "cell_type": "markdown",
      "source": [
        "No negative insights"
      ],
      "metadata": {
        "id": "_WtzZ_hCYuh4"
      }
    },
    {
      "cell_type": "markdown",
      "source": [
        "#### Chart - 6"
      ],
      "metadata": {
        "id": "OH-pJp9IphqM"
      }
    },
    {
      "cell_type": "code",
      "source": [
        "# Chart - 6 visualization code prevalentStroke\n",
        "ax = df1.groupby(['prevalentStroke'])['TenYearCHD'].mean().plot.bar(\n",
        "    figsize = (18,7),\n",
        "    fontsize = 14,\n",
        ")\n",
        "\n",
        "# Set the title\n",
        "ax.set_title(\"Risk of CHD if there are any past Strokes\", fontsize = 20)\n",
        "\n",
        "# Set x and y-labels\n",
        "ax.set_xlabel(\"prevalentStroke\", fontsize = 15)\n",
        "ax.set_ylabel(\"TenYearCHD\", fontsize = 15)\n",
        "plt.xticks(rotation = 0)"
      ],
      "metadata": {
        "id": "kuRf4wtuphqN"
      },
      "execution_count": null,
      "outputs": []
    },
    {
      "cell_type": "markdown",
      "source": [
        "##### 1. Why did you pick the specific chart?"
      ],
      "metadata": {
        "id": "bbFf2-_FphqN"
      }
    },
    {
      "cell_type": "markdown",
      "source": [
        "To study the chances of CHD with respect to prevalent stroke in past"
      ],
      "metadata": {
        "id": "loh7H2nzphqN"
      }
    },
    {
      "cell_type": "markdown",
      "source": [
        "##### 2. What is/are the insight(s) found from the chart?"
      ],
      "metadata": {
        "id": "_ouA3fa0phqN"
      }
    },
    {
      "cell_type": "markdown",
      "source": [
        "A patient already experienced stroke has high chances of CHD"
      ],
      "metadata": {
        "id": "VECbqPI7phqN"
      }
    },
    {
      "cell_type": "markdown",
      "source": [
        "##### 3. Will the gained insights help creating a positive business impact? \n",
        "Are there any insights that lead to negative growth? Justify with specific reason."
      ],
      "metadata": {
        "id": "Seke61FWphqN"
      }
    },
    {
      "cell_type": "markdown",
      "source": [
        "No negative insights"
      ],
      "metadata": {
        "id": "DW4_bGpfphqN"
      }
    },
    {
      "cell_type": "markdown",
      "source": [
        "#### Chart - 7"
      ],
      "metadata": {
        "id": "PIIx-8_IphqN"
      }
    },
    {
      "cell_type": "code",
      "source": [
        "# Chart - 7 visualization code\n",
        "ax = df1.groupby(['prevalentHyp'])['TenYearCHD'].mean().plot.bar(\n",
        "    figsize = (18,7),\n",
        "    fontsize = 14,\n",
        ")\n",
        "\n",
        "# Set the title\n",
        "ax.set_title(\"Risk of CHD if there are any past cases of hypertension\", fontsize = 20)\n",
        "\n",
        "# Set x and y-labels\n",
        "ax.set_xlabel(\"prevalentHyp\", fontsize = 15)\n",
        "ax.set_ylabel(\"TenYearCHD\", fontsize = 15)\n",
        "plt.xticks(rotation = 0)"
      ],
      "metadata": {
        "id": "lqAIGUfyphqO"
      },
      "execution_count": null,
      "outputs": []
    },
    {
      "cell_type": "markdown",
      "source": [
        "##### 1. Why did you pick the specific chart?"
      ],
      "metadata": {
        "id": "t27r6nlMphqO"
      }
    },
    {
      "cell_type": "markdown",
      "source": [
        "To study if a patient has a history of hyper-tension with respect to CHD"
      ],
      "metadata": {
        "id": "iv6ro40sphqO"
      }
    },
    {
      "cell_type": "markdown",
      "source": [
        "##### 2. What is/are the insight(s) found from the chart?"
      ],
      "metadata": {
        "id": "r2jJGEOYphqO"
      }
    },
    {
      "cell_type": "markdown",
      "source": [
        "Patient having a history of hyper-tension has higher risk of CHD"
      ],
      "metadata": {
        "id": "Po6ZPi4hphqO"
      }
    },
    {
      "cell_type": "markdown",
      "source": [
        "##### 3. Will the gained insights help creating a positive business impact? \n",
        "Are there any insights that lead to negative growth? Justify with specific reason."
      ],
      "metadata": {
        "id": "b0JNsNcRphqO"
      }
    },
    {
      "cell_type": "markdown",
      "source": [
        "No negative insights"
      ],
      "metadata": {
        "id": "xvSq8iUTphqO"
      }
    },
    {
      "cell_type": "markdown",
      "source": [
        "#### Chart - 8"
      ],
      "metadata": {
        "id": "BZR9WyysphqO"
      }
    },
    {
      "cell_type": "code",
      "source": [
        "# Chart - 8 visualization code\n",
        "ax = df1.groupby(['diabetes'])['TenYearCHD'].mean().plot.bar(\n",
        "    figsize = (18,7),\n",
        "    fontsize = 14,\n",
        ")\n",
        "\n",
        "# Set the title\n",
        "ax.set_title(\"Risk of CHD if patient is suffering from diabetes\", fontsize = 20)\n",
        "\n",
        "# Set x and y-labels\n",
        "ax.set_xlabel(\"diabetes\", fontsize = 15)\n",
        "ax.set_ylabel(\"TenYearCHD\", fontsize = 15)\n",
        "plt.xticks(rotation = 0)"
      ],
      "metadata": {
        "id": "TdPTWpAVphqO"
      },
      "execution_count": null,
      "outputs": []
    },
    {
      "cell_type": "markdown",
      "source": [
        "##### 1. Why did you pick the specific chart?"
      ],
      "metadata": {
        "id": "jj7wYXLtphqO"
      }
    },
    {
      "cell_type": "markdown",
      "source": [
        "To study the levels of diabetes with respect to CHD"
      ],
      "metadata": {
        "id": "Ob8u6rCTphqO"
      }
    },
    {
      "cell_type": "markdown",
      "source": [
        "##### 2. What is/are the insight(s) found from the chart?"
      ],
      "metadata": {
        "id": "eZrbJ2SmphqO"
      }
    },
    {
      "cell_type": "markdown",
      "source": [
        "People with diabetes has higher risk of CHD"
      ],
      "metadata": {
        "id": "mZtgC_hjphqO"
      }
    },
    {
      "cell_type": "markdown",
      "source": [
        "##### 3. Will the gained insights help creating a positive business impact? \n",
        "Are there any insights that lead to negative growth? Justify with specific reason."
      ],
      "metadata": {
        "id": "rFu4xreNphqO"
      }
    },
    {
      "cell_type": "markdown",
      "source": [
        "No negative insights"
      ],
      "metadata": {
        "id": "ey_0qi68phqO"
      }
    },
    {
      "cell_type": "markdown",
      "source": [
        "#### Chart - 9"
      ],
      "metadata": {
        "id": "YJ55k-q6phqO"
      }
    },
    {
      "cell_type": "code",
      "source": [
        "# Chart - 9 visualization code\n",
        "ax = df1.groupby(['totChol'])['TenYearCHD'].mean().plot.bar(\n",
        "    figsize = (29,10),\n",
        "    fontsize = 10,\n",
        ")\n",
        "\n",
        "# Set the title\n",
        "ax.set_title(\"Risk of CHD estimation from total cholestrol\", fontsize = 20)\n",
        "\n",
        "# Set x and y-labels\n",
        "ax.set_xlabel(\"totChol\", fontsize = 15)\n",
        "ax.set_ylabel(\"TenYearCHD\", fontsize = 15)\n",
        "plt.xticks(rotation = 90)"
      ],
      "metadata": {
        "id": "B2aS4O1ophqO"
      },
      "execution_count": null,
      "outputs": []
    },
    {
      "cell_type": "code",
      "source": [
        "plt.figure(figsize=(15,10))\n",
        "sns.distplot(df1['totChol'],color=\"y\")"
      ],
      "metadata": {
        "id": "ES6oO-4g0jIa"
      },
      "execution_count": null,
      "outputs": []
    },
    {
      "cell_type": "code",
      "source": [
        "plt.figure(figsize=(15,10))\n",
        "sns.distplot(np.log10(df1.totChol),color=\"y\")"
      ],
      "metadata": {
        "id": "5Fr4r46E0pOA"
      },
      "execution_count": null,
      "outputs": []
    },
    {
      "cell_type": "markdown",
      "source": [
        "##### 1. Why did you pick the specific chart?"
      ],
      "metadata": {
        "id": "gCFgpxoyphqP"
      }
    },
    {
      "cell_type": "markdown",
      "source": [
        "To study variation of total cholestrol with respect to CHD"
      ],
      "metadata": {
        "id": "TVxDimi2phqP"
      }
    },
    {
      "cell_type": "markdown",
      "source": [
        "##### 2. What is/are the insight(s) found from the chart?"
      ],
      "metadata": {
        "id": "OVtJsKN_phqQ"
      }
    },
    {
      "cell_type": "markdown",
      "source": [
        "Higher level of cholestrol has higher risk to CHD"
      ],
      "metadata": {
        "id": "ngGi97qjphqQ"
      }
    },
    {
      "cell_type": "markdown",
      "source": [
        "##### 3. Will the gained insights help creating a positive business impact? \n",
        "Are there any insights that lead to negative growth? Justify with specific reason."
      ],
      "metadata": {
        "id": "lssrdh5qphqQ"
      }
    },
    {
      "cell_type": "markdown",
      "source": [
        "No negative insights"
      ],
      "metadata": {
        "id": "tBpY5ekJphqQ"
      }
    },
    {
      "cell_type": "markdown",
      "source": [
        "#### Chart - 10"
      ],
      "metadata": {
        "id": "U2RJ9gkRphqQ"
      }
    },
    {
      "cell_type": "code",
      "source": [
        "# Chart - 10 visualization code\n",
        "ax = df1.groupby(['sysBP'])['TenYearCHD'].mean().plot.bar(\n",
        "    figsize = (29,10),\n",
        "    fontsize = 10,\n",
        ")\n",
        "\n",
        "# Set the title\n",
        "ax.set_title(\"Risk of CHD estimation from BP reading\", fontsize = 20)\n",
        "\n",
        "# Set x and y-labels\n",
        "ax.set_xlabel(\"sysBP\", fontsize = 15)\n",
        "ax.set_ylabel(\"TenYearCHD\", fontsize = 15)\n",
        "plt.xticks(rotation = 90)"
      ],
      "metadata": {
        "id": "GM7a4YP4phqQ"
      },
      "execution_count": null,
      "outputs": []
    },
    {
      "cell_type": "code",
      "source": [
        "plt.figure(figsize=(15,10))\n",
        "sns.distplot(df1['sysBP'],color=\"y\")"
      ],
      "metadata": {
        "id": "kDmFSaSu02Ba"
      },
      "execution_count": null,
      "outputs": []
    },
    {
      "cell_type": "code",
      "source": [
        "plt.figure(figsize=(15,10))\n",
        "sns.distplot(np.log10(df1.sysBP),color=\"y\")"
      ],
      "metadata": {
        "id": "qTi1NPu608xc"
      },
      "execution_count": null,
      "outputs": []
    },
    {
      "cell_type": "markdown",
      "source": [
        "##### 1. Why did you pick the specific chart?"
      ],
      "metadata": {
        "id": "1M8mcRywphqQ"
      }
    },
    {
      "cell_type": "markdown",
      "source": [
        "To study the variation of systolic BP in accordance to CHD"
      ],
      "metadata": {
        "id": "8agQvks0phqQ"
      }
    },
    {
      "cell_type": "markdown",
      "source": [
        "##### 2. What is/are the insight(s) found from the chart?"
      ],
      "metadata": {
        "id": "tgIPom80phqQ"
      }
    },
    {
      "cell_type": "markdown",
      "source": [
        "Higher systolic pressure has higher risk of CHD"
      ],
      "metadata": {
        "id": "Qp13pnNzphqQ"
      }
    },
    {
      "cell_type": "markdown",
      "source": [
        "##### 3. Will the gained insights help creating a positive business impact? \n",
        "Are there any insights that lead to negative growth? Justify with specific reason."
      ],
      "metadata": {
        "id": "JMzcOPDDphqR"
      }
    },
    {
      "cell_type": "markdown",
      "source": [
        "No negative insights"
      ],
      "metadata": {
        "id": "R4Ka1PC2phqR"
      }
    },
    {
      "cell_type": "markdown",
      "source": [
        "#### Chart - 11"
      ],
      "metadata": {
        "id": "x-EpHcCOp1ci"
      }
    },
    {
      "cell_type": "code",
      "source": [
        "sns.violinplot(x = 'TenYearCHD', y = 'BMI', data = df1, size = 8)\n",
        "plt.show()"
      ],
      "metadata": {
        "id": "iscaXBCJuNdy"
      },
      "execution_count": null,
      "outputs": []
    },
    {
      "cell_type": "code",
      "source": [
        "plt.figure(figsize=(15,10))\n",
        "sns.distplot(df1['BMI'],color=\"y\")"
      ],
      "metadata": {
        "id": "7Zy5VyLxzymv"
      },
      "execution_count": null,
      "outputs": []
    },
    {
      "cell_type": "code",
      "source": [
        "plt.figure(figsize=(15,10))\n",
        "sns.distplot(np.log10(df1.BMI),color=\"y\")"
      ],
      "metadata": {
        "id": "nu_2pJ85z5ew"
      },
      "execution_count": null,
      "outputs": []
    },
    {
      "cell_type": "markdown",
      "source": [
        "##### 1. Why did you pick the specific chart?"
      ],
      "metadata": {
        "id": "X_VqEhTip1ck"
      }
    },
    {
      "cell_type": "markdown",
      "source": [
        "To study the variation of BMI with respect to CHD"
      ],
      "metadata": {
        "id": "-vsMzt_np1ck"
      }
    },
    {
      "cell_type": "markdown",
      "source": [
        "##### 2. What is/are the insight(s) found from the chart?"
      ],
      "metadata": {
        "id": "8zGJKyg5p1ck"
      }
    },
    {
      "cell_type": "markdown",
      "source": [
        "Higher variation of BMI is seen between 20-30"
      ],
      "metadata": {
        "id": "ZYdMsrqVp1ck"
      }
    },
    {
      "cell_type": "markdown",
      "source": [
        "##### 3. Will the gained insights help creating a positive business impact? \n",
        "Are there any insights that lead to negative growth? Justify with specific reason."
      ],
      "metadata": {
        "id": "PVzmfK_Ep1ck"
      }
    },
    {
      "cell_type": "markdown",
      "source": [
        "No negative insights"
      ],
      "metadata": {
        "id": "druuKYZpp1ck"
      }
    },
    {
      "cell_type": "markdown",
      "source": [
        "#### Chart - 12"
      ],
      "metadata": {
        "id": "n3dbpmDWp1ck"
      }
    },
    {
      "cell_type": "code",
      "source": [
        "# Chart - 12 visualization code\n",
        "ax = df1.groupby(['heartRate'])['TenYearCHD'].mean().plot.bar(\n",
        "    figsize = (29,10),\n",
        "    fontsize = 10,\n",
        ")\n",
        "\n",
        "# Set the title\n",
        "ax.set_title(\"Risk of CHD estimation according to heart rate\", fontsize = 20)\n",
        "\n",
        "# Set x and y-labels\n",
        "ax.set_xlabel(\"heartRate\", fontsize = 15)\n",
        "ax.set_ylabel(\"TenYearCHD\", fontsize = 15)\n",
        "plt.xticks(rotation = 90)"
      ],
      "metadata": {
        "id": "bwevp1tKp1ck"
      },
      "execution_count": null,
      "outputs": []
    },
    {
      "cell_type": "markdown",
      "source": [
        "##### 1. Why did you pick the specific chart?"
      ],
      "metadata": {
        "id": "ylSl6qgtp1ck"
      }
    },
    {
      "cell_type": "markdown",
      "source": [
        "To study the variation of heart rate according to the risk of CHD for 10 years"
      ],
      "metadata": {
        "id": "x-lUsV2mp1ck"
      }
    },
    {
      "cell_type": "markdown",
      "source": [
        "##### 2. What is/are the insight(s) found from the chart?"
      ],
      "metadata": {
        "id": "ZWILFDl5p1ck"
      }
    },
    {
      "cell_type": "markdown",
      "source": [
        "Higher heart rate have higher risk of CHD"
      ],
      "metadata": {
        "id": "m2xqNkiQp1ck"
      }
    },
    {
      "cell_type": "markdown",
      "source": [
        "##### 3. Will the gained insights help creating a positive business impact? \n",
        "Are there any insights that lead to negative growth? Justify with specific reason."
      ],
      "metadata": {
        "id": "M7G43BXep1ck"
      }
    },
    {
      "cell_type": "markdown",
      "source": [
        "No negative insights"
      ],
      "metadata": {
        "id": "5wwDJXsLp1cl"
      }
    },
    {
      "cell_type": "markdown",
      "source": [
        "#### Chart - 13"
      ],
      "metadata": {
        "id": "Ag9LCva-p1cl"
      }
    },
    {
      "cell_type": "code",
      "source": [
        "# Chart - 13 visualization code\n",
        "ax = df1.groupby(['glucose'])['TenYearCHD'].mean().plot.bar(\n",
        "    figsize = (29,10),\n",
        "    fontsize = 10,\n",
        ")\n",
        "\n",
        "# Set the title\n",
        "ax.set_title(\"Risk of CHD estimation according to glucose level\", fontsize = 20)\n",
        "\n",
        "# Set x and y-labels\n",
        "ax.set_xlabel(\"glucose\", fontsize = 15)\n",
        "ax.set_ylabel(\"TenYearCHD\", fontsize = 15)\n",
        "plt.xticks(rotation = 90)"
      ],
      "metadata": {
        "id": "EUfxeq9-p1cl"
      },
      "execution_count": null,
      "outputs": []
    },
    {
      "cell_type": "code",
      "source": [
        "plt.figure(figsize=(15,10))\n",
        "sns.distplot(df1['glucose'],color=\"y\")"
      ],
      "metadata": {
        "id": "rHo_A7jnyqDD"
      },
      "execution_count": null,
      "outputs": []
    },
    {
      "cell_type": "code",
      "source": [
        "plt.figure(figsize=(15,10))\n",
        "sns.distplot(np.log10(df1.glucose),color=\"y\")"
      ],
      "metadata": {
        "id": "RcCLN5RDyxTI"
      },
      "execution_count": null,
      "outputs": []
    },
    {
      "cell_type": "markdown",
      "source": [
        "##### 1. Why did you pick the specific chart?"
      ],
      "metadata": {
        "id": "E6MkPsBcp1cl"
      }
    },
    {
      "cell_type": "markdown",
      "source": [
        "To study the variation of glucose according to the risk of CHD for 10 years"
      ],
      "metadata": {
        "id": "V22bRsFWp1cl"
      }
    },
    {
      "cell_type": "markdown",
      "source": [
        "##### 2. What is/are the insight(s) found from the chart?"
      ],
      "metadata": {
        "id": "2cELzS2fp1cl"
      }
    },
    {
      "cell_type": "markdown",
      "source": [
        "Higher glucose have higher risk of CHD"
      ],
      "metadata": {
        "id": "ozQPc2_Ip1cl"
      }
    },
    {
      "cell_type": "markdown",
      "source": [
        "##### 3. Will the gained insights help creating a positive business impact? \n",
        "Are there any insights that lead to negative growth? Justify with specific reason."
      ],
      "metadata": {
        "id": "3MPXvC8up1cl"
      }
    },
    {
      "cell_type": "markdown",
      "source": [
        "No negative insights"
      ],
      "metadata": {
        "id": "GL8l1tdLp1cl"
      }
    },
    {
      "cell_type": "markdown",
      "source": [
        "#### Chart - 14 - Correlation Heatmap"
      ],
      "metadata": {
        "id": "NC_X3p0fY2L0"
      }
    },
    {
      "cell_type": "code",
      "source": [
        "df2 = df1"
      ],
      "metadata": {
        "id": "2Qy26bmzL-wm"
      },
      "execution_count": null,
      "outputs": []
    },
    {
      "cell_type": "code",
      "source": [
        "df2.head()"
      ],
      "metadata": {
        "id": "o9Rjo8FMMCSN"
      },
      "execution_count": null,
      "outputs": []
    },
    {
      "cell_type": "code",
      "source": [
        "df2['sex_F'] = np.where(df2['sex']=='F', 1, 0)\n",
        "df2['sex_M'] = np.where(df2['sex']=='M', 1, 0)\n",
        "df2.drop(columns=['sex'],axis=1,inplace=True)"
      ],
      "metadata": {
        "id": "J6kxHSVLHNXv"
      },
      "execution_count": null,
      "outputs": []
    },
    {
      "cell_type": "code",
      "source": [
        "df2['smoke_yes'] = np.where(df2['is_smoking']=='YES', 1, 0)\n",
        "df2['smoke_no'] = np.where(df2['is_smoking']=='NO', 1, 0)\n",
        "df2.drop(columns=['is_smoking'],axis=1,inplace=True)"
      ],
      "metadata": {
        "id": "wPDAwxHgKNxE"
      },
      "execution_count": null,
      "outputs": []
    },
    {
      "cell_type": "code",
      "source": [
        "# Correlation Heatmap visualization code\n",
        "plt.figure(figsize=(15,8))\n",
        "correlation = df2.corr()\n",
        "sns.heatmap(abs(correlation), annot=True, cmap='YlGnBu')"
      ],
      "metadata": {
        "id": "xyC9zolEZNRQ"
      },
      "execution_count": null,
      "outputs": []
    },
    {
      "cell_type": "markdown",
      "source": [
        "##### 1. Why did you pick the specific chart?"
      ],
      "metadata": {
        "id": "UV0SzAkaZNRQ"
      }
    },
    {
      "cell_type": "markdown",
      "source": [
        "To study the co-relation between different variables"
      ],
      "metadata": {
        "id": "DVPuT8LYZNRQ"
      }
    },
    {
      "cell_type": "markdown",
      "source": [
        "##### 2. What is/are the insight(s) found from the chart?"
      ],
      "metadata": {
        "id": "YPEH6qLeZNRQ"
      }
    },
    {
      "cell_type": "markdown",
      "source": [
        "Few variables are highly co-related"
      ],
      "metadata": {
        "id": "bfSqtnDqZNRR"
      }
    },
    {
      "cell_type": "markdown",
      "source": [
        "#### Chart - 15 - Pair Plot "
      ],
      "metadata": {
        "id": "q29F0dvdveiT"
      }
    },
    {
      "cell_type": "code",
      "source": [
        "# Pair Plot visualization code"
      ],
      "metadata": {
        "id": "o58-TEIhveiU"
      },
      "execution_count": null,
      "outputs": []
    },
    {
      "cell_type": "markdown",
      "source": [
        "##### 1. Why did you pick the specific chart?"
      ],
      "metadata": {
        "id": "EXh0U9oCveiU"
      }
    },
    {
      "cell_type": "markdown",
      "source": [
        "Answer Here."
      ],
      "metadata": {
        "id": "eMmPjTByveiU"
      }
    },
    {
      "cell_type": "markdown",
      "source": [
        "##### 2. What is/are the insight(s) found from the chart?"
      ],
      "metadata": {
        "id": "22aHeOlLveiV"
      }
    },
    {
      "cell_type": "markdown",
      "source": [
        "Answer Here"
      ],
      "metadata": {
        "id": "uPQ8RGwHveiV"
      }
    },
    {
      "cell_type": "markdown",
      "source": [
        "## ***5. Hypothesis Testing***"
      ],
      "metadata": {
        "id": "g-ATYxFrGrvw"
      }
    },
    {
      "cell_type": "markdown",
      "source": [
        "### Based on your chart experiments, define three hypothetical statements from the dataset. In the next three questions, perform hypothesis testing to obtain final conclusion about the statements through your code and statistical testing."
      ],
      "metadata": {
        "id": "Yfr_Vlr8HBkt"
      }
    },
    {
      "cell_type": "markdown",
      "source": [
        "Answer Here."
      ],
      "metadata": {
        "id": "-7MS06SUHkB-"
      }
    },
    {
      "cell_type": "markdown",
      "source": [
        "### Hypothetical Statement - 1"
      ],
      "metadata": {
        "id": "8yEUt7NnHlrM"
      }
    },
    {
      "cell_type": "markdown",
      "source": [
        "#### 1. State Your research hypothesis as a null hypothesis and alternate hypothesis."
      ],
      "metadata": {
        "id": "tEA2Xm5dHt1r"
      }
    },
    {
      "cell_type": "markdown",
      "source": [
        "Answer Here."
      ],
      "metadata": {
        "id": "HI9ZP0laH0D-"
      }
    },
    {
      "cell_type": "markdown",
      "source": [
        "#### 2. Perform an appropriate statistical test."
      ],
      "metadata": {
        "id": "I79__PHVH19G"
      }
    },
    {
      "cell_type": "code",
      "source": [
        "# Perform Statistical Test to obtain P-Value"
      ],
      "metadata": {
        "id": "oZrfquKtyian"
      },
      "execution_count": null,
      "outputs": []
    },
    {
      "cell_type": "markdown",
      "source": [
        "##### Which statistical test have you done to obtain P-Value?"
      ],
      "metadata": {
        "id": "Ou-I18pAyIpj"
      }
    },
    {
      "cell_type": "markdown",
      "source": [
        "Answer Here."
      ],
      "metadata": {
        "id": "s2U0kk00ygSB"
      }
    },
    {
      "cell_type": "markdown",
      "source": [
        "##### Why did you choose the specific statistical test?"
      ],
      "metadata": {
        "id": "fF3858GYyt-u"
      }
    },
    {
      "cell_type": "markdown",
      "source": [
        "Answer Here."
      ],
      "metadata": {
        "id": "HO4K0gP5y3B4"
      }
    },
    {
      "cell_type": "markdown",
      "source": [
        "### Hypothetical Statement - 2"
      ],
      "metadata": {
        "id": "4_0_7-oCpUZd"
      }
    },
    {
      "cell_type": "markdown",
      "source": [
        "#### 1. State Your research hypothesis as a null hypothesis and alternate hypothesis."
      ],
      "metadata": {
        "id": "hwyV_J3ipUZe"
      }
    },
    {
      "cell_type": "markdown",
      "source": [
        "Answer Here."
      ],
      "metadata": {
        "id": "FnpLGJ-4pUZe"
      }
    },
    {
      "cell_type": "markdown",
      "source": [
        "#### 2. Perform an appropriate statistical test."
      ],
      "metadata": {
        "id": "3yB-zSqbpUZe"
      }
    },
    {
      "cell_type": "code",
      "source": [
        "# Perform Statistical Test to obtain P-Value"
      ],
      "metadata": {
        "id": "sWxdNTXNpUZe"
      },
      "execution_count": null,
      "outputs": []
    },
    {
      "cell_type": "markdown",
      "source": [
        "##### Which statistical test have you done to obtain P-Value?"
      ],
      "metadata": {
        "id": "dEUvejAfpUZe"
      }
    },
    {
      "cell_type": "markdown",
      "source": [
        "Answer Here."
      ],
      "metadata": {
        "id": "oLDrPz7HpUZf"
      }
    },
    {
      "cell_type": "markdown",
      "source": [
        "##### Why did you choose the specific statistical test?"
      ],
      "metadata": {
        "id": "Fd15vwWVpUZf"
      }
    },
    {
      "cell_type": "markdown",
      "source": [
        "Answer Here."
      ],
      "metadata": {
        "id": "4xOGYyiBpUZf"
      }
    },
    {
      "cell_type": "markdown",
      "source": [
        "### Hypothetical Statement - 3"
      ],
      "metadata": {
        "id": "bn_IUdTipZyH"
      }
    },
    {
      "cell_type": "markdown",
      "source": [
        "#### 1. State Your research hypothesis as a null hypothesis and alternate hypothesis."
      ],
      "metadata": {
        "id": "49K5P_iCpZyH"
      }
    },
    {
      "cell_type": "markdown",
      "source": [
        "Answer Here."
      ],
      "metadata": {
        "id": "7gWI5rT9pZyH"
      }
    },
    {
      "cell_type": "markdown",
      "source": [
        "#### 2. Perform an appropriate statistical test."
      ],
      "metadata": {
        "id": "Nff-vKELpZyI"
      }
    },
    {
      "cell_type": "code",
      "source": [
        "# Perform Statistical Test to obtain P-Value"
      ],
      "metadata": {
        "id": "s6AnJQjtpZyI"
      },
      "execution_count": null,
      "outputs": []
    },
    {
      "cell_type": "markdown",
      "source": [
        "##### Which statistical test have you done to obtain P-Value?"
      ],
      "metadata": {
        "id": "kLW572S8pZyI"
      }
    },
    {
      "cell_type": "markdown",
      "source": [
        "Answer Here."
      ],
      "metadata": {
        "id": "ytWJ8v15pZyI"
      }
    },
    {
      "cell_type": "markdown",
      "source": [
        "##### Why did you choose the specific statistical test?"
      ],
      "metadata": {
        "id": "dWbDXHzopZyI"
      }
    },
    {
      "cell_type": "markdown",
      "source": [
        "Answer Here."
      ],
      "metadata": {
        "id": "M99G98V6pZyI"
      }
    },
    {
      "cell_type": "markdown",
      "source": [
        "## ***6. Feature Engineering & Data Pre-processing***"
      ],
      "metadata": {
        "id": "yLjJCtPM0KBk"
      }
    },
    {
      "cell_type": "markdown",
      "source": [
        "### 1. Handling Missing Values"
      ],
      "metadata": {
        "id": "xiyOF9F70UgQ"
      }
    },
    {
      "cell_type": "code",
      "source": [
        "# Handling Missing Values & Missing Value Imputation\n",
        "df1.isnull().sum()"
      ],
      "metadata": {
        "id": "iRsAHk1K0fpS"
      },
      "execution_count": null,
      "outputs": []
    },
    {
      "cell_type": "markdown",
      "source": [
        "#### What all missing value imputation techniques have you used and why did you use those techniques?"
      ],
      "metadata": {
        "id": "7wuGOrhz0itI"
      }
    },
    {
      "cell_type": "markdown",
      "source": [
        "For some values the mean or mode couldn't be used so we have filled the null values by considering the rows above and below the rows with null values"
      ],
      "metadata": {
        "id": "1ixusLtI0pqI"
      }
    },
    {
      "cell_type": "markdown",
      "source": [
        "### 2. Handling Outliers"
      ],
      "metadata": {
        "id": "id1riN9m0vUs"
      }
    },
    {
      "cell_type": "code",
      "source": [
        "# Handling Outliers & Outlier treatments\n",
        "df2.plot(kind=\"box\",subplots=True,layout=(12,2),figsize=(25,30))"
      ],
      "metadata": {
        "id": "M6w2CzZf04JK"
      },
      "execution_count": null,
      "outputs": []
    },
    {
      "cell_type": "code",
      "source": [
        "#Using Quantile Method\n",
        "fig, axes = plt.subplots(1,2)\n",
        "plt.tight_layout(0.2)\n",
        "print(\"Previous Shape With Outlier: \",df2.shape)\n",
        "sns.boxplot(df2['cigsPerDay'],orient='v',ax=axes[0])\n",
        "axes[0].title.set_text(\"Before\")\n",
        "\n",
        "########### HANDLING OUTLIER ######\n",
        "max_val = df2.cigsPerDay.quantile(0.95)\n",
        "min_val = df2.cigsPerDay.quantile(0.05)\n",
        "\n",
        "df3 = df2\n",
        "df3['cigsPerDay'] = np.where(df3['cigsPerDay']>max_val,max_val,df3['cigsPerDay'])\n",
        "\n",
        "print(\"Shape After Removing Outliers:\", df3.shape)\n",
        "\n",
        "sns.boxplot(df3['cigsPerDay'],orient='v',ax=axes[1])\n",
        "axes[1].title.set_text(\"After\")\n",
        "plt.show()"
      ],
      "metadata": {
        "id": "jVQ8eFygQvoC"
      },
      "execution_count": null,
      "outputs": []
    },
    {
      "cell_type": "code",
      "source": [
        "fig, axes = plt.subplots(1,2)\n",
        "plt.tight_layout(0.2)\n",
        "print(\"Previous Shape With Outlier: \",df2.shape)\n",
        "sns.boxplot(df2['totChol'],orient='v',ax=axes[0])\n",
        "axes[0].title.set_text(\"Before\")\n",
        "\n",
        "########### HANDLING OUTLIER ######\n",
        "max_val = df2.totChol.quantile(0.95)\n",
        "min_val = df2.totChol.quantile(0.05)\n",
        "\n",
        "df3 = df2\n",
        "df3['totChol'] = np.where(df3['totChol']>max_val,max_val,df3['totChol'])\n",
        "\n",
        "print(\"Shape After Removing Outliers:\", df3.shape)\n",
        "\n",
        "sns.boxplot(df3['totChol'],orient='v',ax=axes[1])\n",
        "axes[1].title.set_text(\"After\")\n",
        "plt.show()"
      ],
      "metadata": {
        "id": "8Sn0_Bc1ca4I"
      },
      "execution_count": null,
      "outputs": []
    },
    {
      "cell_type": "code",
      "source": [
        "fig, axes = plt.subplots(1,2)\n",
        "plt.tight_layout(0.2)\n",
        "print(\"Previous Shape With Outlier: \",df2.shape)\n",
        "sns.boxplot(df2['sysBP'],orient='v',ax=axes[0])\n",
        "axes[0].title.set_text(\"Before\")\n",
        "\n",
        "########### HANDLING OUTLIER ######\n",
        "max_val = df2.sysBP.quantile(0.95)\n",
        "min_val = df2.sysBP.quantile(0.05)\n",
        "\n",
        "df3 = df2\n",
        "df3['sysBP'] = np.where(df3['sysBP']>max_val,max_val,df3['sysBP'])\n",
        "\n",
        "print(\"Shape After Removing Outliers:\", df3.shape)\n",
        "\n",
        "sns.boxplot(df3['sysBP'],orient='v',ax=axes[1])\n",
        "axes[1].title.set_text(\"After\")\n",
        "plt.show()"
      ],
      "metadata": {
        "id": "WuQnWxRodNku"
      },
      "execution_count": null,
      "outputs": []
    },
    {
      "cell_type": "code",
      "source": [
        "fig, axes = plt.subplots(1,2)\n",
        "plt.tight_layout(0.2)\n",
        "print(\"Previous Shape With Outlier: \",df2.shape)\n",
        "sns.boxplot(df2['diaBP'],orient='v',ax=axes[0])\n",
        "axes[0].title.set_text(\"Before\")\n",
        "\n",
        "########### HANDLING OUTLIER ######\n",
        "max_val = df2.diaBP.quantile(0.95)\n",
        "min_val = df2.diaBP.quantile(0.05)\n",
        "\n",
        "df3 = df2\n",
        "df3['diaBP'] = np.where(df3['diaBP']>max_val,max_val,df3['diaBP'])\n",
        "\n",
        "print(\"Shape After Removing Outliers:\", df3.shape)\n",
        "\n",
        "sns.boxplot(df3['diaBP'],orient='v',ax=axes[1])\n",
        "axes[1].title.set_text(\"After\")\n",
        "plt.show()"
      ],
      "metadata": {
        "id": "tKlfVN6pePvJ"
      },
      "execution_count": null,
      "outputs": []
    },
    {
      "cell_type": "code",
      "source": [
        "fig, axes = plt.subplots(1,2)\n",
        "plt.tight_layout(0.2)\n",
        "print(\"Previous Shape With Outlier: \",df2.shape)\n",
        "sns.boxplot(df2['BMI'],orient='v',ax=axes[0])\n",
        "axes[0].title.set_text(\"Before\")\n",
        "\n",
        "########### HANDLING OUTLIER ######\n",
        "max_val = df2.BMI.quantile(0.95)\n",
        "min_val = df2.BMI.quantile(0.05)\n",
        "\n",
        "df3 = df2\n",
        "df3['BMI'] = np.where(df3['BMI']>max_val,max_val,df3['BMI'])\n",
        "\n",
        "print(\"Shape After Removing Outliers:\", df3.shape)\n",
        "\n",
        "sns.boxplot(df3['BMI'],orient='v',ax=axes[1])\n",
        "axes[1].title.set_text(\"After\")\n",
        "plt.show()"
      ],
      "metadata": {
        "id": "ExorQztzeunA"
      },
      "execution_count": null,
      "outputs": []
    },
    {
      "cell_type": "code",
      "source": [
        "fig, axes = plt.subplots(1,2)\n",
        "plt.tight_layout(0.2)\n",
        "print(\"Previous Shape With Outlier: \",df2.shape)\n",
        "sns.boxplot(df2['heartRate'],orient='v',ax=axes[0])\n",
        "axes[0].title.set_text(\"Before\")\n",
        "\n",
        "########### HANDLING OUTLIER ######\n",
        "max_val = df2.heartRate.quantile(0.95)\n",
        "min_val = df2.heartRate.quantile(0.05)\n",
        "\n",
        "df3 = df2\n",
        "df3['heartRate'] = np.where(df3['heartRate']>max_val,max_val,df3['heartRate'])\n",
        "\n",
        "print(\"Shape After Removing Outliers:\", df3.shape)\n",
        "\n",
        "sns.boxplot(df3['heartRate'],orient='v',ax=axes[1])\n",
        "axes[1].title.set_text(\"After\")\n",
        "plt.show()"
      ],
      "metadata": {
        "id": "Z6NSDHxifGV5"
      },
      "execution_count": null,
      "outputs": []
    },
    {
      "cell_type": "code",
      "source": [
        "fig, axes = plt.subplots(1,2)\n",
        "plt.tight_layout(0.2)\n",
        "print(\"Previous Shape With Outlier: \",df2.shape)\n",
        "sns.boxplot(df2['glucose'],orient='v',ax=axes[0])\n",
        "axes[0].title.set_text(\"Before\")\n",
        "\n",
        "########### HANDLING OUTLIER ######\n",
        "max_val = df2.glucose.quantile(0.95)\n",
        "min_val = df2.glucose.quantile(0.05)\n",
        "\n",
        "df3 = df2\n",
        "df3['glucose'] = np.where(df3['glucose']>max_val,max_val,df3['glucose'])\n",
        "\n",
        "print(\"Shape After Removing Outliers:\", df3.shape)\n",
        "\n",
        "sns.boxplot(df3['glucose'],orient='v',ax=axes[1])\n",
        "axes[1].title.set_text(\"After\")\n",
        "plt.show()"
      ],
      "metadata": {
        "id": "b0fvMgvVXQ3A"
      },
      "execution_count": null,
      "outputs": []
    },
    {
      "cell_type": "markdown",
      "source": [
        "##### What all outlier treatment techniques have you used and why did you use those techniques?"
      ],
      "metadata": {
        "id": "578E2V7j08f6"
      }
    },
    {
      "cell_type": "markdown",
      "source": [
        "By using the Quantile method I have removed the outliers. Using this method makes it easier to visualize the outliers and remove them accordingly"
      ],
      "metadata": {
        "id": "uGZz5OrT1HH-"
      }
    },
    {
      "cell_type": "markdown",
      "source": [
        "### 3. Categorical Encoding"
      ],
      "metadata": {
        "id": "89xtkJwZ18nB"
      }
    },
    {
      "cell_type": "code",
      "source": [
        "# Encode your categorical columns\n",
        "categorical_features = df1.describe(include=['object','category']).columns"
      ],
      "metadata": {
        "id": "21JmIYMG2hEo"
      },
      "execution_count": null,
      "outputs": []
    },
    {
      "cell_type": "code",
      "source": [
        "for col in categorical_features:\n",
        "    counts = df1[col].value_counts().sort_index()\n",
        "    fig = plt.figure(figsize=(9, 6))\n",
        "    ax = fig.gca()\n",
        "    counts.plot.bar(ax = ax, color='maroon')\n",
        "    ax.set_title(col + ' counts')\n",
        "    ax.set_xlabel(col) \n",
        "    ax.set_ylabel(\"Frequency\")\n",
        "plt.show()"
      ],
      "metadata": {
        "id": "gwnA21gCgy8o"
      },
      "execution_count": null,
      "outputs": []
    },
    {
      "cell_type": "markdown",
      "source": [
        "#### What all categorical encoding techniques have you used & why did you use those techniques?"
      ],
      "metadata": {
        "id": "67NQN5KX2AMe"
      }
    },
    {
      "cell_type": "markdown",
      "source": [
        "One hot encoding has been used here in order to make it easier to fit to the model"
      ],
      "metadata": {
        "id": "UDaue5h32n_G"
      }
    },
    {
      "cell_type": "markdown",
      "source": [
        "### 4. Feature Manipulation & Selection"
      ],
      "metadata": {
        "id": "-oLEiFgy-5Pf"
      }
    },
    {
      "cell_type": "markdown",
      "source": [
        "#### 1. Feature Manipulation"
      ],
      "metadata": {
        "id": "C74aWNz2AliB"
      }
    },
    {
      "cell_type": "code",
      "source": [
        "# Manipulate Features to minimize feature correlation and create new features\n",
        "df3['totBP'] = df3['sysBP'] - df3['diaBP'] \n",
        "df3.drop(columns=['sysBP','diaBP'],axis=1,inplace=True)"
      ],
      "metadata": {
        "id": "h1qC4yhBApWC"
      },
      "execution_count": null,
      "outputs": []
    },
    {
      "cell_type": "code",
      "source": [
        "df3.head()"
      ],
      "metadata": {
        "id": "bKlEbxdqrCPS"
      },
      "execution_count": null,
      "outputs": []
    },
    {
      "cell_type": "code",
      "source": [
        "df3.drop(columns = ['smoke_yes','smoke_no'],axis = 1, inplace = True)\n",
        "df3.head()"
      ],
      "metadata": {
        "id": "zyFSl3OEtyrE"
      },
      "execution_count": null,
      "outputs": []
    },
    {
      "cell_type": "code",
      "source": [
        "plt.figure(figsize=(15,8))\n",
        "correlation = df3.corr()\n",
        "sns.heatmap(abs(correlation), annot=True, cmap='YlGnBu')"
      ],
      "metadata": {
        "id": "sBAzTr2wrVre"
      },
      "execution_count": null,
      "outputs": []
    },
    {
      "cell_type": "markdown",
      "source": [
        "#### 2. Feature Selection"
      ],
      "metadata": {
        "id": "2DejudWSA-a0"
      }
    },
    {
      "cell_type": "code",
      "source": [
        "# Select your features wisely to avoid overfitting\n",
        "from statsmodels.stats.outliers_influence import variance_inflation_factor\n",
        "def calc_vif(X):\n",
        "\n",
        "    # Calculating VIF\n",
        "    vif = pd.DataFrame()\n",
        "    vif[\"variables\"] = X.columns\n",
        "    vif[\"VIF\"] = [variance_inflation_factor(X.values, i) for i in range(X.shape[1])]\n",
        "\n",
        "    return(vif)"
      ],
      "metadata": {
        "id": "YLhe8UmaBCEE"
      },
      "execution_count": null,
      "outputs": []
    },
    {
      "cell_type": "code",
      "source": [
        "calc_vif(df3[[i for i in df3.describe().columns if i not in ['TenYearCHD','id']]])"
      ],
      "metadata": {
        "id": "Z7LmnY1KKAXu"
      },
      "execution_count": null,
      "outputs": []
    },
    {
      "cell_type": "code",
      "source": [
        "features = ['age','education','cigsPerDay','BPMeds','prevalentStroke','prevalentHyp','diabetes','totChol','BMI','heartRate','glucose','sex_F','sex_M','totBP']\n",
        "features"
      ],
      "metadata": {
        "id": "kaMN-wZ7ythb"
      },
      "execution_count": null,
      "outputs": []
    },
    {
      "cell_type": "markdown",
      "source": [
        "##### What all feature selection methods have you used  and why?"
      ],
      "metadata": {
        "id": "pEMng2IbBLp7"
      }
    },
    {
      "cell_type": "markdown",
      "source": [
        "Variance Inflation Factor is used to remove the multicollinearity between the highly co-related independent variables."
      ],
      "metadata": {
        "id": "rb2Lh6Z8BgGs"
      }
    },
    {
      "cell_type": "markdown",
      "source": [
        "##### Which all features you found important and why?"
      ],
      "metadata": {
        "id": "rAdphbQ9Bhjc"
      }
    },
    {
      "cell_type": "markdown",
      "source": [
        "All the features listed in features are found to be the most important because their VIF value is optimal , although if we inlcude all the features then also the VIF value is not much deviated, so we can also consider all the independent variables."
      ],
      "metadata": {
        "id": "fGgaEstsBnaf"
      }
    },
    {
      "cell_type": "markdown",
      "source": [
        "### 5. Data Transformation"
      ],
      "metadata": {
        "id": "TNVZ9zx19K6k"
      }
    },
    {
      "cell_type": "markdown",
      "source": [
        "#### Do you think that your data needs to be transformed? If yes, which transformation have you used. Explain Why?"
      ],
      "metadata": {
        "id": "nqoHp30x9hH9"
      }
    },
    {
      "cell_type": "code",
      "source": [
        "# Not required"
      ],
      "metadata": {
        "id": "I6quWQ1T9rtH"
      },
      "execution_count": null,
      "outputs": []
    },
    {
      "cell_type": "markdown",
      "source": [
        "### 6. Data Scaling"
      ],
      "metadata": {
        "id": "rMDnDkt2B6du"
      }
    },
    {
      "cell_type": "code",
      "source": [
        "# Scaling your data\n",
        "st_x= StandardScaler()  \n",
        "X_train= st_x.fit_transform(X_train)    \n",
        "X_test= st_x.transform(X_test)   "
      ],
      "metadata": {
        "id": "dL9LWpySC6x_"
      },
      "execution_count": null,
      "outputs": []
    },
    {
      "cell_type": "markdown",
      "source": [
        "##### Which method have you used to scale you data and why?"
      ],
      "metadata": {
        "id": "yiiVWRdJDDil"
      }
    },
    {
      "cell_type": "markdown",
      "source": [
        "I have used StandardScaler to scale the data. It is one of the most common ways of scaling data, it use the z-score formula which makes the data normally distributed with mean = 0 and std = 1."
      ],
      "metadata": {
        "id": "hmMeiumoCYO6"
      }
    },
    {
      "cell_type": "markdown",
      "source": [
        "### 7. Dimesionality Reduction"
      ],
      "metadata": {
        "id": "1UUpS68QDMuG"
      }
    },
    {
      "cell_type": "markdown",
      "source": [
        "##### Do you think that dimensionality reduction is needed? Explain Why?"
      ],
      "metadata": {
        "id": "kexQrXU-DjzY"
      }
    },
    {
      "cell_type": "markdown",
      "source": [
        "No , not required"
      ],
      "metadata": {
        "id": "GGRlBsSGDtTQ"
      }
    },
    {
      "cell_type": "code",
      "source": [
        "# DImensionality Reduction (If needed)"
      ],
      "metadata": {
        "id": "kQfvxBBHDvCa"
      },
      "execution_count": null,
      "outputs": []
    },
    {
      "cell_type": "markdown",
      "source": [
        "##### Which dimensionality reduction technique have you used and why? (If dimensionality reduction done on dataset.)"
      ],
      "metadata": {
        "id": "T5CmagL3EC8N"
      }
    },
    {
      "cell_type": "markdown",
      "source": [
        "Answer Here."
      ],
      "metadata": {
        "id": "ZKr75IDuEM7t"
      }
    },
    {
      "cell_type": "markdown",
      "source": [
        "### 8. Data Splitting"
      ],
      "metadata": {
        "id": "BhH2vgX9EjGr"
      }
    },
    {
      "cell_type": "code",
      "source": [
        "# Split your data to train and test. Choose Splitting ratio wisely.\n",
        "dependent_var = 'TenYearCHD'\n",
        "independent_var = ['age','education','cigsPerDay','BPMeds','prevalentStroke','prevalentHyp','diabetes','totChol','BMI','heartRate','glucose','sex_F','sex_M','totBP']"
      ],
      "metadata": {
        "id": "0CTyd2UwEyNM"
      },
      "execution_count": null,
      "outputs": []
    },
    {
      "cell_type": "code",
      "source": [
        "X = df4[independent_var]\n",
        "y = df4[dependent_var]"
      ],
      "metadata": {
        "id": "R8QIt36U4JpF"
      },
      "execution_count": null,
      "outputs": []
    },
    {
      "cell_type": "code",
      "source": [
        "X_train, X_test, y_train, y_test = train_test_split(X, y, test_size=0.33, random_state=324)"
      ],
      "metadata": {
        "id": "eywzWKmF4djd"
      },
      "execution_count": null,
      "outputs": []
    },
    {
      "cell_type": "code",
      "source": [
        "X_train"
      ],
      "metadata": {
        "id": "7VmAE7xbxtS5"
      },
      "execution_count": null,
      "outputs": []
    },
    {
      "cell_type": "markdown",
      "source": [
        "##### What data splitting ratio have you used and why? "
      ],
      "metadata": {
        "id": "qjKvONjwE8ra"
      }
    },
    {
      "cell_type": "markdown",
      "source": [
        "70% for training and 30% for testing is splitted accordingly. Most common used ratio for splitting the training and testing set. Anythingmore or less can hinder the accuracy of the model."
      ],
      "metadata": {
        "id": "Y2lJ8cobFDb_"
      }
    },
    {
      "cell_type": "markdown",
      "source": [
        "### 9. Handling Imbalanced Dataset"
      ],
      "metadata": {
        "id": "P1XJ9OREExlT"
      }
    },
    {
      "cell_type": "markdown",
      "source": [
        "##### Do you think the dataset is imbalanced? Explain Why."
      ],
      "metadata": {
        "id": "VFOzZv6IFROw"
      }
    },
    {
      "cell_type": "markdown",
      "source": [
        "Yes I think data is imbalanced by looking to the count of both the classes"
      ],
      "metadata": {
        "id": "GeKDIv7pFgcC"
      }
    },
    {
      "cell_type": "code",
      "source": [
        "sns.countplot(x=df1['TenYearCHD'])"
      ],
      "metadata": {
        "id": "DAoWRHUPInsW"
      },
      "execution_count": null,
      "outputs": []
    },
    {
      "cell_type": "code",
      "source": [
        "df3.head()"
      ],
      "metadata": {
        "id": "zKETaPETNnxS"
      },
      "execution_count": null,
      "outputs": []
    },
    {
      "cell_type": "code",
      "source": [
        "df4 = df3.reindex(columns = [col for col in df3.columns if col != 'TenYearCHD'] + ['TenYearCHD'])\n",
        "df4"
      ],
      "metadata": {
        "id": "VRqw3ub0N8v9"
      },
      "execution_count": null,
      "outputs": []
    },
    {
      "cell_type": "code",
      "source": [
        "# Handling Imbalanced Dataset (If needed)\n",
        "from imblearn.under_sampling import TomekLinks\n",
        "\n",
        "tl = TomekLinks()\n",
        "\n",
        "X_tl, y_tl = tl.fit_resample(df4.iloc[:,0:-1], df4['TenYearCHD'])\n",
        "\n",
        "print('Original dataset shape:', len(df4))\n",
        "print('Resampled dataset shape', len(y_tl))"
      ],
      "metadata": {
        "id": "nQsRhhZLFiDs"
      },
      "execution_count": null,
      "outputs": []
    },
    {
      "cell_type": "markdown",
      "source": [
        "##### What technique did you use to handle the imbalance dataset and why? (If needed to be balanced)"
      ],
      "metadata": {
        "id": "TIqpNgepFxVj"
      }
    },
    {
      "cell_type": "markdown",
      "source": [
        "Undersampling method has been used here with Tomek links. Tomek links are pairs of very close instances but of opposite classes. Removing the instances of the majority class of each pair increases the space between the two classes, facilitating the classification process. Tomek’s link exists if the two samples are the nearest neighbors of each other."
      ],
      "metadata": {
        "id": "qbet1HwdGDTz"
      }
    },
    {
      "cell_type": "markdown",
      "source": [
        "## ***7. ML Model Implementation***"
      ],
      "metadata": {
        "id": "VfCC591jGiD4"
      }
    },
    {
      "cell_type": "markdown",
      "source": [
        "### ML Model - 1"
      ],
      "metadata": {
        "id": "OB4l2ZhMeS1U"
      }
    },
    {
      "cell_type": "code",
      "source": [
        "# ML Model - 1 Implementation\n",
        "# Fit the Algorithm\n",
        "chd_classifier = DecisionTreeClassifier(criterion='entropy', max_leaf_nodes=15, random_state=0)\n",
        "chd_classifier.fit(X_train, y_train)"
      ],
      "metadata": {
        "id": "7ebyywQieS1U"
      },
      "execution_count": null,
      "outputs": []
    },
    {
      "cell_type": "code",
      "source": [
        "# Predict on the model\n",
        "y_predicted = chd_classifier.predict(X_test)"
      ],
      "metadata": {
        "id": "KY5FN5zw6ms7"
      },
      "execution_count": null,
      "outputs": []
    },
    {
      "cell_type": "code",
      "source": [
        "y_predicted[:10]"
      ],
      "metadata": {
        "id": "DBoIPUUV61ce"
      },
      "execution_count": null,
      "outputs": []
    },
    {
      "cell_type": "code",
      "source": [
        "y_test[:10]"
      ],
      "metadata": {
        "id": "knzqX1Xc65Om"
      },
      "execution_count": null,
      "outputs": []
    },
    {
      "cell_type": "markdown",
      "source": [
        "#### 1. Explain the ML Model used and it's performance using Evaluation metric Score Chart."
      ],
      "metadata": {
        "id": "ArJBuiUVfxKd"
      }
    },
    {
      "cell_type": "code",
      "source": [
        "# Visualizing evaluation Metric Score chart\n",
        "accuracy_score(y_test, y_predicted) * 100"
      ],
      "metadata": {
        "id": "rqD5ZohzfxKe"
      },
      "execution_count": null,
      "outputs": []
    },
    {
      "cell_type": "markdown",
      "source": [
        "#### 2. Cross- Validation & Hyperparameter Tuning"
      ],
      "metadata": {
        "id": "4qY1EAkEfxKe"
      }
    },
    {
      "cell_type": "code",
      "source": [
        "# ML Model - 1 Implementation with hyperparameter optimization techniques (i.e., GridSearch CV, RandomSearch CV, Bayesian Optimization etc.)\n",
        "# Fit the Algorithm\n",
        "classifier = RandomForestClassifier() # For GBM, use GradientBoostingClassifier()\n",
        "grid_values = {'n_estimators':[50, 80, 100], 'max_depth':[3, 5, 7]}\n",
        "classifier = GridSearchCV(classifier, param_grid = grid_values, scoring = 'roc_auc', cv=5)\n",
        "\n",
        "classifier.fit(X_train, y_train)"
      ],
      "metadata": {
        "id": "Dy61ujd6fxKe"
      },
      "execution_count": null,
      "outputs": []
    },
    {
      "cell_type": "code",
      "source": [
        "# Predict on the model\n",
        "train_preds =  classifier.predict(X_train)\n",
        "test_preds  = classifier.predict(X_test)"
      ],
      "metadata": {
        "id": "o0AgXVctBqxZ"
      },
      "execution_count": null,
      "outputs": []
    },
    {
      "cell_type": "code",
      "source": [
        "accuracy_score(y_train,train_preds)*100"
      ],
      "metadata": {
        "id": "u_4OYAGsCenq"
      },
      "execution_count": null,
      "outputs": []
    },
    {
      "cell_type": "code",
      "source": [
        "accuracy_score(y_test,test_preds)*100"
      ],
      "metadata": {
        "id": "sFx-tEsZCo0v"
      },
      "execution_count": null,
      "outputs": []
    },
    {
      "cell_type": "markdown",
      "source": [
        "##### Which hyperparameter optimization technique have you used and why?"
      ],
      "metadata": {
        "id": "PiV4Ypx8fxKe"
      }
    },
    {
      "cell_type": "markdown",
      "source": [
        "Grid Search Cross Fold validation has been used in order to tune the hyper-parameter. This method involves specifying a set of possible values for each hyper-parameter and training the model for each combination of hyper-parameter values."
      ],
      "metadata": {
        "id": "negyGRa7fxKf"
      }
    },
    {
      "cell_type": "markdown",
      "source": [
        "##### Have you seen any improvement? Note down the improvement with updates Evaluation metric Score Chart."
      ],
      "metadata": {
        "id": "TfvqoZmBfxKf"
      }
    },
    {
      "cell_type": "markdown",
      "source": [
        "Yes there has been a considerable improvement in the testing accuracy after hyper-parameter tunning."
      ],
      "metadata": {
        "id": "OaLui8CcfxKf"
      }
    },
    {
      "cell_type": "markdown",
      "source": [
        "### ML Model - 2"
      ],
      "metadata": {
        "id": "dJ2tPlVmpsJ0"
      }
    },
    {
      "cell_type": "markdown",
      "source": [
        "#### 1. Explain the ML Model used and it's performance using Evaluation metric Score Chart."
      ],
      "metadata": {
        "id": "JWYfwnehpsJ1"
      }
    },
    {
      "cell_type": "code",
      "source": [
        "# ML Model - 3 Implementation\n",
        "# Fit the Algorithm\n",
        "clf = LogisticRegression(fit_intercept=True, max_iter=10000)\n",
        "clf.fit(X_train, y_train)"
      ],
      "metadata": {
        "id": "cq0BJqumDMdA"
      },
      "execution_count": null,
      "outputs": []
    },
    {
      "cell_type": "code",
      "source": [
        "# Predict on the model\n",
        "train_preds = clf.predict_proba(X_train)\n",
        "test_preds = clf.predict_proba(X_test)"
      ],
      "metadata": {
        "id": "qpuLnCNdPqV3"
      },
      "execution_count": null,
      "outputs": []
    },
    {
      "cell_type": "code",
      "source": [
        "X_test"
      ],
      "metadata": {
        "id": "aCcBc_OSPxhm"
      },
      "execution_count": null,
      "outputs": []
    },
    {
      "cell_type": "code",
      "source": [
        "test_preds"
      ],
      "metadata": {
        "id": "AVrfOHxMQ3gx"
      },
      "execution_count": null,
      "outputs": []
    },
    {
      "cell_type": "code",
      "source": [
        "train_preds = clf.predict_proba(X_train)[:,1]\n",
        "test_preds = clf.predict_proba(X_test)[:,1]"
      ],
      "metadata": {
        "id": "VfggGk26RnYa"
      },
      "execution_count": null,
      "outputs": []
    },
    {
      "cell_type": "code",
      "source": [
        "# Get the predicted classes\n",
        "train_class_preds = clf.predict(X_train)\n",
        "test_class_preds = clf.predict(X_test)"
      ],
      "metadata": {
        "id": "pXJSmXqxRtqh"
      },
      "execution_count": null,
      "outputs": []
    },
    {
      "cell_type": "code",
      "source": [
        "# Visualizing evaluation Metric Score chart\n",
        "train_accuracy = accuracy_score(train_class_preds,y_train)*100\n",
        "test_accuracy = accuracy_score(test_class_preds,y_test)*100\n",
        "\n",
        "print(\"The accuracy on train data is \", train_accuracy)\n",
        "print(\"The accuracy on test data is \", test_accuracy)"
      ],
      "metadata": {
        "id": "yEl-hgQWpsJ1"
      },
      "execution_count": null,
      "outputs": []
    },
    {
      "cell_type": "markdown",
      "source": [
        "#### 2. Cross- Validation & Hyperparameter Tuning"
      ],
      "metadata": {
        "id": "-jK_YjpMpsJ2"
      }
    },
    {
      "cell_type": "code",
      "source": [
        "# ML Model - 1 Implementation with hyperparameter optimization techniques (i.e., GridSearch CV, RandomSearch CV, Bayesian Optimization etc.)\n",
        "# Fit the Algorithm\n",
        "logistic = LogisticRegression()\n",
        "scoring = ['accuracy']\n",
        "scores = cross_validate(logistic,X_train, y_train, scoring = scoring, cv = 5, return_train_score=True,return_estimator=True,verbose = 10)"
      ],
      "metadata": {
        "id": "Dn0EOfS6psJ2"
      },
      "execution_count": null,
      "outputs": []
    },
    {
      "cell_type": "code",
      "source": [
        "train_accuracy = max(scores['train_accuracy']*100)"
      ],
      "metadata": {
        "id": "qSWMyjk0FWag"
      },
      "execution_count": null,
      "outputs": []
    },
    {
      "cell_type": "code",
      "source": [
        "test_accuracy = max(scores['test_accuracy']*100)"
      ],
      "metadata": {
        "id": "l0hsVq9fFhyG"
      },
      "execution_count": null,
      "outputs": []
    },
    {
      "cell_type": "code",
      "source": [
        "print('Training accuracy is :',train_accuracy)\n",
        "print('Testing accuracy is :',test_accuracy)"
      ],
      "metadata": {
        "id": "aXgTPvb_LwWF"
      },
      "execution_count": null,
      "outputs": []
    },
    {
      "cell_type": "markdown",
      "source": [
        "##### Which hyperparameter optimization technique have you used and why?"
      ],
      "metadata": {
        "id": "HAih1iBOpsJ2"
      }
    },
    {
      "cell_type": "markdown",
      "source": [
        "Grid Search CV has been used. This method involves specifying a set of possible values for each hyper-parameter and training the model for each combination of hyper-parameter values."
      ],
      "metadata": {
        "id": "9kBgjYcdpsJ2"
      }
    },
    {
      "cell_type": "markdown",
      "source": [
        "##### Have you seen any improvement? Note down the improvement with updates Evaluation metric Score Chart."
      ],
      "metadata": {
        "id": "zVGeBEFhpsJ2"
      }
    },
    {
      "cell_type": "markdown",
      "source": [
        "There has been some improvement but not much as such. "
      ],
      "metadata": {
        "id": "74yRdG6UpsJ3"
      }
    },
    {
      "cell_type": "markdown",
      "source": [
        "#### 3. Explain each evaluation metric's indication towards business and the business impact pf the ML model used."
      ],
      "metadata": {
        "id": "bmKjuQ-FpsJ3"
      }
    },
    {
      "cell_type": "markdown",
      "source": [
        "However when compare the training and testing accuracy , we can conclude that the testing accuarcy is slightly more than training and so the model is trained in a good way to estimate the price values"
      ],
      "metadata": {
        "id": "BDKtOrBQpsJ3"
      }
    },
    {
      "cell_type": "markdown",
      "source": [
        "### ML Model - 3"
      ],
      "metadata": {
        "id": "Fze-IPXLpx6K"
      }
    },
    {
      "cell_type": "code",
      "source": [
        "# ML Model - 3 Implementation\n",
        "#Setup arrays to store training and test accuracies\n",
        "neighbors = np.arange(1,9)\n",
        "train_accuracy =np.empty(len(neighbors))\n",
        "test_accuracy = np.empty(len(neighbors))\n",
        "\n",
        "for i,k in enumerate(neighbors):\n",
        "    # Setup a knn classifier with k neighbors\n",
        "    knn = KNeighborsClassifier(n_neighbors=k)\n",
        "    \n",
        "    # Fit the model\n",
        "    knn.fit(X_train, y_train)\n",
        "    \n",
        "    # Compute accuracy on the training set\n",
        "    train_accuracy[i] = knn.score(X_train, y_train)\n",
        "    \n",
        "    # Compute accuracy on the test set\n",
        "    test_accuracy[i] = knn.score(X_test, y_test) "
      ],
      "metadata": {
        "id": "FFrSXAtrpx6M"
      },
      "execution_count": null,
      "outputs": []
    },
    {
      "cell_type": "markdown",
      "source": [
        "#### 1. Explain the ML Model used and it's performance using Evaluation metric Score Chart."
      ],
      "metadata": {
        "id": "7AN1z2sKpx6M"
      }
    },
    {
      "cell_type": "code",
      "source": [
        "# Visualizing evaluation Metric Score chart\n",
        "plt.title('k-NN Varying number of neighbors')\n",
        "plt.plot(neighbors, test_accuracy, label='Testing Accuracy')\n",
        "plt.plot(neighbors, train_accuracy, label='Training accuracy')\n",
        "plt.legend()\n",
        "plt.xlabel('Number of neighbors')\n",
        "plt.ylabel('Accuracy')\n",
        "plt.show()"
      ],
      "metadata": {
        "id": "mKjYrn-YHRrl"
      },
      "execution_count": null,
      "outputs": []
    },
    {
      "cell_type": "code",
      "source": [
        "# Setup a knn classifier with k neighbors\n",
        "knn = KNeighborsClassifier(n_neighbors=7)"
      ],
      "metadata": {
        "id": "xIY4lxxGpx6M"
      },
      "execution_count": null,
      "outputs": []
    },
    {
      "cell_type": "code",
      "source": [
        "# Fit the model\n",
        "knn.fit(X_train,y_train)"
      ],
      "metadata": {
        "id": "LwLPPoDbHjE1"
      },
      "execution_count": null,
      "outputs": []
    },
    {
      "cell_type": "code",
      "source": [
        "knn.score(X_test,y_test)*100"
      ],
      "metadata": {
        "id": "_P64ePeWHmYe"
      },
      "execution_count": null,
      "outputs": []
    },
    {
      "cell_type": "code",
      "source": [
        "y_pred_proba = knn.predict_proba(X_test)[:,1]"
      ],
      "metadata": {
        "id": "RAKeF_iVIH_T"
      },
      "execution_count": null,
      "outputs": []
    },
    {
      "cell_type": "code",
      "source": [
        "fpr, tpr, thresholds = roc_curve(y_test, y_pred_proba)"
      ],
      "metadata": {
        "id": "nl9--NoeH2Gr"
      },
      "execution_count": null,
      "outputs": []
    },
    {
      "cell_type": "code",
      "source": [
        "plt.plot([0,1],[0,1],'k--')\n",
        "plt.plot(fpr,tpr, label='Knn')\n",
        "plt.xlabel('fpr')\n",
        "plt.ylabel('tpr')\n",
        "plt.title('Knn(n_neighbors=7) ROC curve')\n",
        "plt.show()"
      ],
      "metadata": {
        "id": "YJoDJMLxIKOv"
      },
      "execution_count": null,
      "outputs": []
    },
    {
      "cell_type": "code",
      "source": [
        "# Area under ROC curve\n",
        "from sklearn.metrics import roc_auc_score\n",
        "roc_auc_score(y_test,y_pred_proba)"
      ],
      "metadata": {
        "id": "WE5y7B14IbRk"
      },
      "execution_count": null,
      "outputs": []
    },
    {
      "cell_type": "markdown",
      "source": [
        "#### 2. Cross- Validation & Hyperparameter Tuning"
      ],
      "metadata": {
        "id": "9PIHJqyupx6M"
      }
    },
    {
      "cell_type": "code",
      "source": [
        "# ML Model - 3 Implementation with hyperparameter optimization techniques (i.e., GridSearch CV, RandomSearch CV, Bayesian Optimization etc.)\n",
        "# In case of classifier like knn the parameter to be tuned is n_neighbors\n",
        "param_grid = {'n_neighbors':np.arange(1,40)}"
      ],
      "metadata": {
        "id": "eSVXuaSKpx6M"
      },
      "execution_count": null,
      "outputs": []
    },
    {
      "cell_type": "code",
      "source": [
        "knn = KNeighborsClassifier()\n",
        "knn_cv= GridSearchCV(knn,param_grid,cv=7)\n",
        "knn_cv.fit(X,y)"
      ],
      "metadata": {
        "id": "_XZdA98XfNdq"
      },
      "execution_count": null,
      "outputs": []
    },
    {
      "cell_type": "code",
      "source": [
        "(knn_cv.best_score_)*100"
      ],
      "metadata": {
        "id": "mCZZM448fTlm"
      },
      "execution_count": null,
      "outputs": []
    },
    {
      "cell_type": "code",
      "source": [
        "knn_cv.best_params_"
      ],
      "metadata": {
        "id": "Sjzbkfd-fiVh"
      },
      "execution_count": null,
      "outputs": []
    },
    {
      "cell_type": "markdown",
      "source": [
        "##### Which hyperparameter optimization technique have you used and why?"
      ],
      "metadata": {
        "id": "_-qAgymDpx6N"
      }
    },
    {
      "cell_type": "markdown",
      "source": [
        "Grid search - This method involves specifying a set of possible values for each hyper-parameter and training the model for each combination of hyper-parameter values."
      ],
      "metadata": {
        "id": "lQMffxkwpx6N"
      }
    },
    {
      "cell_type": "markdown",
      "source": [
        "##### Have you seen any improvement? Note down the improvement with updates Evaluation metric Score Chart."
      ],
      "metadata": {
        "id": "Z-hykwinpx6N"
      }
    },
    {
      "cell_type": "markdown",
      "source": [
        "Yes there has been a considerable improvement after hyper-parameter tunning and it is evaluated above"
      ],
      "metadata": {
        "id": "MzVzZC6opx6N"
      }
    },
    {
      "cell_type": "markdown",
      "source": [
        "### 1. Which Evaluation metrics did you consider for a positive business impact and why?"
      ],
      "metadata": {
        "id": "h_CCil-SKHpo"
      }
    },
    {
      "cell_type": "markdown",
      "source": [
        "The AUC_ROC curve can be considered for a positive business impact. Although we have compared the training and testing accuracy to judge the model in terms of business impact."
      ],
      "metadata": {
        "id": "jHVz9hHDKFms"
      }
    },
    {
      "cell_type": "markdown",
      "source": [
        "### 2. Which ML model did you choose from the above created models as your final prediction model and why?"
      ],
      "metadata": {
        "id": "cBFFvTBNJzUa"
      }
    },
    {
      "cell_type": "markdown",
      "source": [
        "Logistic Regression is considered for final prediction as the testing and training accuracy have a satisfied value and models are not overfitted. Almost all models have near or same accuracy "
      ],
      "metadata": {
        "id": "6ksF5Q1LKTVm"
      }
    },
    {
      "cell_type": "markdown",
      "source": [
        "### 3. Explain the model which you have used and the feature importance using any model explainability tool?"
      ],
      "metadata": {
        "id": "HvGl1hHyA_VK"
      }
    },
    {
      "cell_type": "code",
      "source": [
        "pip install shap"
      ],
      "metadata": {
        "id": "w39Q4-wfp7fT"
      },
      "execution_count": null,
      "outputs": []
    },
    {
      "cell_type": "code",
      "source": [
        "from sklearn.tree import export_graphviz\n",
        "from sklearn.tree import DecisionTreeClassifier\n",
        "import shap \n",
        "import graphviz\n",
        "sns.set_style('darkgrid') "
      ],
      "metadata": {
        "id": "abNakTDgrbRo"
      },
      "execution_count": null,
      "outputs": []
    },
    {
      "cell_type": "code",
      "source": [
        "# Visualize how model classified the entire data\n",
        "tree_graph = export_graphviz(chd_classifier, out_file=None, feature_names = X.columns, rounded=True, filled=True)\n",
        "graphviz.Source(tree_graph)"
      ],
      "metadata": {
        "id": "tRiK18Px4UH8"
      },
      "execution_count": null,
      "outputs": []
    },
    {
      "cell_type": "code",
      "source": [
        "# Initialize JavaScript visualizations in notebook environment\n",
        "shap.initjs()\n",
        "# Define a tree explainer for the built model\n",
        "explainer = shap.TreeExplainer(chd_classifier)\n",
        "# obtain shap values for the first row of the test data\n",
        "shap_values = explainer.shap_values(X_test[0])\n",
        "shap.force_plot(explainer.expected_value[0], shap_values[0], X_test[0]) "
      ],
      "metadata": {
        "id": "9usteLp-6KnP"
      },
      "execution_count": null,
      "outputs": []
    },
    {
      "cell_type": "code",
      "source": [
        "# Obtain a Scatter Summary Plot \n",
        "shap_values = shap.TreeExplainer(chd_classifier).shap_values(X_test)\n",
        "shap.summary_plot(shap_values[0], X_test)"
      ],
      "metadata": {
        "id": "bD2v8vHF58lM"
      },
      "execution_count": null,
      "outputs": []
    },
    {
      "cell_type": "code",
      "source": [
        "import lime\n",
        "from lime import lime_tabular\n",
        " \n",
        "explainer = lime_tabular.LimeTabularExplainer(\n",
        "    training_data=np.array(X),\n",
        "    feature_names=X.columns,\n",
        "    class_names=['Not at risk','At risk'],\n",
        "    mode='classification'\n",
        ")"
      ],
      "metadata": {
        "id": "1fSiOkRMw1Mf"
      },
      "execution_count": null,
      "outputs": []
    },
    {
      "cell_type": "code",
      "source": [
        "exp = explainer.explain_instance(\n",
        "    data_row=X.iloc[1], \n",
        "    predict_fn=clf.predict_proba\n",
        ")\n",
        " \n",
        "exp.show_in_notebook(show_table=True)"
      ],
      "metadata": {
        "id": "slRNIkCBw2qQ"
      },
      "execution_count": null,
      "outputs": []
    },
    {
      "cell_type": "markdown",
      "source": [
        "I have used LIME i.e Local Interpretable Model-Agnostic Explanations and SHAP i.e Shapley Additive Explanations for model explainability and feature importance  "
      ],
      "metadata": {
        "id": "YnvVTiIxBL-C"
      }
    },
    {
      "cell_type": "markdown",
      "source": [
        "## ***8.*** ***Future Work (Optional)***"
      ],
      "metadata": {
        "id": "EyNgTHvd2WFk"
      }
    },
    {
      "cell_type": "markdown",
      "source": [
        "### 1. Save the best performing ml model in a pickle file or joblib file format for deployment process.\n"
      ],
      "metadata": {
        "id": "KH5McJBi2d8v"
      }
    },
    {
      "cell_type": "code",
      "source": [
        "# Save the File"
      ],
      "metadata": {
        "id": "bQIANRl32f4J"
      },
      "execution_count": null,
      "outputs": []
    },
    {
      "cell_type": "markdown",
      "source": [
        "### 2. Again Load the saved model file and try to predict unseen data for a sanity check.\n"
      ],
      "metadata": {
        "id": "iW_Lq9qf2h6X"
      }
    },
    {
      "cell_type": "code",
      "source": [
        "# Load the File and predict unseen data."
      ],
      "metadata": {
        "id": "oEXk9ydD2nVC"
      },
      "execution_count": null,
      "outputs": []
    },
    {
      "cell_type": "markdown",
      "source": [
        "### ***Congrats! Your model is successfully created and ready for deployment on a live server for a real user interaction !!!***"
      ],
      "metadata": {
        "id": "-Kee-DAl2viO"
      }
    },
    {
      "cell_type": "markdown",
      "source": [
        "# **Conclusion**"
      ],
      "metadata": {
        "id": "gCX9965dhzqZ"
      }
    },
    {
      "cell_type": "markdown",
      "source": [
        "## The Logistic Regression model is best suited for this model and considered to be the most accurate for this classification model. Hence such algorithms can be used to predict some set of data while using classification. Other models used like KNN and SVM and Decision tree also gave some good results but not as high as Logistic regressor. Hyper-parameter tunning has helped to improve the model further."
      ],
      "metadata": {
        "id": "Fjb1IsQkh3yE"
      }
    },
    {
      "cell_type": "markdown",
      "source": [
        "### ***Hurrah! You have successfully completed your Machine Learning Capstone Project !!!***"
      ],
      "metadata": {
        "id": "gIfDvo9L0UH2"
      }
    }
  ]
}